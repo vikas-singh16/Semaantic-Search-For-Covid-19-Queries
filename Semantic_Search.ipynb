{
  "cells": [
    {
      "cell_type": "markdown",
      "metadata": {
        "id": "view-in-github",
        "colab_type": "text"
      },
      "source": [
        "<a href=\"https://colab.research.google.com/github/vikas-singh16/Semaantic-Search-For-Covid-19-Queries/blob/main/Semantic_Search.ipynb\" target=\"_parent\"><img src=\"https://colab.research.google.com/assets/colab-badge.svg\" alt=\"Open In Colab\"/></a>"
      ]
    },
    {
      "cell_type": "code",
      "execution_count": null,
      "metadata": {
        "colab": {
          "base_uri": "https://localhost:8080/"
        },
        "id": "o2LYncLTZPx7",
        "outputId": "3bcb9ff3-885a-4155-ccb4-d76afa0b1493"
      },
      "outputs": [
        {
          "name": "stdout",
          "output_type": "stream",
          "text": [
            "Drive already mounted at /content/drive; to attempt to forcibly remount, call drive.mount(\"/content/drive\", force_remount=True).\n"
          ]
        }
      ],
      "source": [
        "from google.colab import drive\n",
        "drive.mount('/content/drive')"
      ]
    },
    {
      "cell_type": "code",
      "execution_count": null,
      "metadata": {
        "colab": {
          "base_uri": "https://localhost:8080/"
        },
        "id": "zwos9BEpJ7ay",
        "outputId": "7d111d75-4972-4881-d0d4-2b0d89b2b45d"
      },
      "outputs": [
        {
          "name": "stdout",
          "output_type": "stream",
          "text": [
            "Collecting faiss-cpu\n",
            "  Downloading faiss_cpu-1.7.2-cp37-cp37m-manylinux_2_17_x86_64.manylinux2014_x86_64.whl (8.6 MB)\n",
            "\u001b[K     |████████████████████████████████| 8.6 MB 3.8 MB/s \n",
            "\u001b[?25hInstalling collected packages: faiss-cpu\n",
            "Successfully installed faiss-cpu-1.7.2\n"
          ]
        }
      ],
      "source": [
        "!pip install faiss-cpu"
      ]
    },
    {
      "cell_type": "code",
      "execution_count": null,
      "metadata": {
        "colab": {
          "base_uri": "https://localhost:8080/"
        },
        "id": "QZT2rrPDKNdy",
        "outputId": "d71db13c-bd2a-4458-d0a0-21b6631217ea"
      },
      "outputs": [
        {
          "name": "stdout",
          "output_type": "stream",
          "text": [
            "Collecting transformers\n",
            "  Downloading transformers-4.18.0-py3-none-any.whl (4.0 MB)\n",
            "\u001b[K     |████████████████████████████████| 4.0 MB 4.3 MB/s \n",
            "\u001b[?25hCollecting huggingface-hub<1.0,>=0.1.0\n",
            "  Downloading huggingface_hub-0.5.1-py3-none-any.whl (77 kB)\n",
            "\u001b[K     |████████████████████████████████| 77 kB 5.4 MB/s \n",
            "\u001b[?25hRequirement already satisfied: numpy>=1.17 in /usr/local/lib/python3.7/dist-packages (from transformers) (1.21.5)\n",
            "Requirement already satisfied: requests in /usr/local/lib/python3.7/dist-packages (from transformers) (2.23.0)\n",
            "Collecting sacremoses\n",
            "  Downloading sacremoses-0.0.49-py3-none-any.whl (895 kB)\n",
            "\u001b[K     |████████████████████████████████| 895 kB 44.4 MB/s \n",
            "\u001b[?25hCollecting pyyaml>=5.1\n",
            "  Downloading PyYAML-6.0-cp37-cp37m-manylinux_2_5_x86_64.manylinux1_x86_64.manylinux_2_12_x86_64.manylinux2010_x86_64.whl (596 kB)\n",
            "\u001b[K     |████████████████████████████████| 596 kB 51.8 MB/s \n",
            "\u001b[?25hRequirement already satisfied: regex!=2019.12.17 in /usr/local/lib/python3.7/dist-packages (from transformers) (2019.12.20)\n",
            "Collecting tokenizers!=0.11.3,<0.13,>=0.11.1\n",
            "  Downloading tokenizers-0.12.1-cp37-cp37m-manylinux_2_12_x86_64.manylinux2010_x86_64.whl (6.6 MB)\n",
            "\u001b[K     |████████████████████████████████| 6.6 MB 45.1 MB/s \n",
            "\u001b[?25hRequirement already satisfied: filelock in /usr/local/lib/python3.7/dist-packages (from transformers) (3.6.0)\n",
            "Requirement already satisfied: packaging>=20.0 in /usr/local/lib/python3.7/dist-packages (from transformers) (21.3)\n",
            "Requirement already satisfied: tqdm>=4.27 in /usr/local/lib/python3.7/dist-packages (from transformers) (4.63.0)\n",
            "Requirement already satisfied: importlib-metadata in /usr/local/lib/python3.7/dist-packages (from transformers) (4.11.3)\n",
            "Requirement already satisfied: typing-extensions>=3.7.4.3 in /usr/local/lib/python3.7/dist-packages (from huggingface-hub<1.0,>=0.1.0->transformers) (3.10.0.2)\n",
            "Requirement already satisfied: pyparsing!=3.0.5,>=2.0.2 in /usr/local/lib/python3.7/dist-packages (from packaging>=20.0->transformers) (3.0.7)\n",
            "Requirement already satisfied: zipp>=0.5 in /usr/local/lib/python3.7/dist-packages (from importlib-metadata->transformers) (3.7.0)\n",
            "Requirement already satisfied: urllib3!=1.25.0,!=1.25.1,<1.26,>=1.21.1 in /usr/local/lib/python3.7/dist-packages (from requests->transformers) (1.24.3)\n",
            "Requirement already satisfied: certifi>=2017.4.17 in /usr/local/lib/python3.7/dist-packages (from requests->transformers) (2021.10.8)\n",
            "Requirement already satisfied: chardet<4,>=3.0.2 in /usr/local/lib/python3.7/dist-packages (from requests->transformers) (3.0.4)\n",
            "Requirement already satisfied: idna<3,>=2.5 in /usr/local/lib/python3.7/dist-packages (from requests->transformers) (2.10)\n",
            "Requirement already satisfied: click in /usr/local/lib/python3.7/dist-packages (from sacremoses->transformers) (7.1.2)\n",
            "Requirement already satisfied: six in /usr/local/lib/python3.7/dist-packages (from sacremoses->transformers) (1.15.0)\n",
            "Requirement already satisfied: joblib in /usr/local/lib/python3.7/dist-packages (from sacremoses->transformers) (1.1.0)\n",
            "Installing collected packages: pyyaml, tokenizers, sacremoses, huggingface-hub, transformers\n",
            "  Attempting uninstall: pyyaml\n",
            "    Found existing installation: PyYAML 3.13\n",
            "    Uninstalling PyYAML-3.13:\n",
            "      Successfully uninstalled PyYAML-3.13\n",
            "Successfully installed huggingface-hub-0.5.1 pyyaml-6.0 sacremoses-0.0.49 tokenizers-0.12.1 transformers-4.18.0\n"
          ]
        }
      ],
      "source": [
        "!pip install transformers"
      ]
    },
    {
      "cell_type": "code",
      "execution_count": null,
      "metadata": {
        "id": "uU5-zLPtKPqf"
      },
      "outputs": [],
      "source": [
        "from transformers import AutoModel, AutoTokenizer"
      ]
    },
    {
      "cell_type": "code",
      "execution_count": null,
      "metadata": {
        "colab": {
          "base_uri": "https://localhost:8080/",
          "height": 249,
          "referenced_widgets": [
            "7e3bfd9366884373a2ed7e413556cfb6",
            "0b90807584c142eb8b3077a0ea8c7324",
            "a85b2761ad5a4d3b8e88aea9e00e538c",
            "ebed34001471429090a54452cb9cc4d1",
            "0e5976fac204423c86552b51f5747d0c",
            "bbc95324c0a74d6488a854e1d8dead60",
            "87a642199b7c4ffc9bbf157fc757e505",
            "8dd4ae6fde534c49988a1e79152e6936",
            "b9614d7bb3944378ad9d9e5ac491162a",
            "b73f41b25397410b87dd7c7a7efc6d39",
            "4ef540d1cdde4ddab605b010e4cd62e5",
            "e20bcebd23fd4eaba90542df37a1aabe",
            "96a3cf3ab5e349ef806e6a7b96a1b563",
            "31357ae988b443158e2b02377b29a5a5",
            "3ab0a5bc43c04f458158f6a450f4bd53",
            "31f32b082dea4b85a63c6fbce008d0a1",
            "eb45a2b34b404ab68cc598ff0ccf8aa3",
            "616387989a6e44388a242d8f03640f22",
            "67ddbcb782364be8acf7fcf6eb186bf5",
            "1e89bd637c8d4912956af21bf3534e64",
            "a591f28cefe045798d5c79eef1b9e0e7",
            "4c1eceaa58c74b0cb8066c2bf567773c",
            "2a4b9abd816342d6909d0ca1544b2793",
            "d577d798a95543c08fae9e9e0b42e2d7",
            "26d2de2d806c40eda85badb90d723190",
            "931c77444e164470bc183ab93a7af8e4",
            "d8f873a7db964681a610cdb4c28b8572",
            "8dfeaf5304a94cf0ba89fe9b379a7781",
            "e5d497d21f824f85a04b7295baef128f",
            "dfd60fc58e744e61ac7ae6e576057800",
            "f71a0d3df8e6409cbdc7196fbf635f2e",
            "813012aa93bb4268b1658ea65bde10e5",
            "6bc5d43ec2704d1095088bdf72139657",
            "9208e2c3a82f4136beaa6674a4c40a58",
            "50d0cacb35a7441f86815c1ea5d18fa9",
            "529abe6267b64cd99343f32cedf028a3",
            "cda4e65dfff64fff8e6ecbb119891e8b",
            "cea52e9bd6b54b90baf08cf17c3c84df",
            "ff42648637c04111b40b9878d9c71104",
            "8483c05de9554c4b8c88ceccded3b497",
            "d6ab90c38c4c4cd592285c8daa1397d5",
            "2a39ce9d94e94921b0b686829ca34c0c",
            "d9780c8787464f00adaac636461221f4",
            "bb6c3d90884a4defa9c85deff50b168c",
            "3611df8a2ca9430e963ff686d95d8aab",
            "8539dadf31804c7aab870dac8f107bee",
            "6e404e86551f46eb92696b65a32faa6d",
            "c9baaa20d72e4300b7f399c202437181",
            "751023aa70f147dd9c967abc2b7de9c2",
            "499ffce5ad824005aee55785e18c9450",
            "cd0768c06a424772b8e98f95aa337213",
            "2d33c589caa3466cacb68e62f6001c5d",
            "ae3ecd37749d438c9c849fb176c12b58",
            "b05f6cd5fe8a4aedbbe9618a4bf6e439",
            "36a418f7cb4d40278ddbf12d3e3e94dc"
          ]
        },
        "id": "aPYJICoDKl4R",
        "outputId": "b63c721b-6c27-4b7d-8d5f-22f227e05e8c"
      },
      "outputs": [
        {
          "data": {
            "application/vnd.jupyter.widget-view+json": {
              "model_id": "7e3bfd9366884373a2ed7e413556cfb6",
              "version_major": 2,
              "version_minor": 0
            },
            "text/plain": [
              "Downloading:   0%|          | 0.00/28.0 [00:00<?, ?B/s]"
            ]
          },
          "metadata": {},
          "output_type": "display_data"
        },
        {
          "data": {
            "application/vnd.jupyter.widget-view+json": {
              "model_id": "e20bcebd23fd4eaba90542df37a1aabe",
              "version_major": 2,
              "version_minor": 0
            },
            "text/plain": [
              "Downloading:   0%|          | 0.00/483 [00:00<?, ?B/s]"
            ]
          },
          "metadata": {},
          "output_type": "display_data"
        },
        {
          "data": {
            "application/vnd.jupyter.widget-view+json": {
              "model_id": "2a4b9abd816342d6909d0ca1544b2793",
              "version_major": 2,
              "version_minor": 0
            },
            "text/plain": [
              "Downloading:   0%|          | 0.00/226k [00:00<?, ?B/s]"
            ]
          },
          "metadata": {},
          "output_type": "display_data"
        },
        {
          "data": {
            "application/vnd.jupyter.widget-view+json": {
              "model_id": "9208e2c3a82f4136beaa6674a4c40a58",
              "version_major": 2,
              "version_minor": 0
            },
            "text/plain": [
              "Downloading:   0%|          | 0.00/455k [00:00<?, ?B/s]"
            ]
          },
          "metadata": {},
          "output_type": "display_data"
        },
        {
          "data": {
            "application/vnd.jupyter.widget-view+json": {
              "model_id": "3611df8a2ca9430e963ff686d95d8aab",
              "version_major": 2,
              "version_minor": 0
            },
            "text/plain": [
              "Downloading:   0%|          | 0.00/256M [00:00<?, ?B/s]"
            ]
          },
          "metadata": {},
          "output_type": "display_data"
        },
        {
          "name": "stderr",
          "output_type": "stream",
          "text": [
            "Some weights of the model checkpoint at distilbert-base-uncased were not used when initializing DistilBertModel: ['vocab_layer_norm.weight', 'vocab_transform.bias', 'vocab_projector.bias', 'vocab_transform.weight', 'vocab_projector.weight', 'vocab_layer_norm.bias']\n",
            "- This IS expected if you are initializing DistilBertModel from the checkpoint of a model trained on another task or with another architecture (e.g. initializing a BertForSequenceClassification model from a BertForPreTraining model).\n",
            "- This IS NOT expected if you are initializing DistilBertModel from the checkpoint of a model that you expect to be exactly identical (initializing a BertForSequenceClassification model from a BertForSequenceClassification model).\n"
          ]
        }
      ],
      "source": [
        "token = AutoTokenizer.from_pretrained(\"distilbert-base-uncased\")\n",
        "model = AutoModel.from_pretrained(\"distilbert-base-uncased\")"
      ]
    },
    {
      "cell_type": "code",
      "execution_count": null,
      "metadata": {
        "colab": {
          "background_save": true
        },
        "id": "IS45jyuBLBK7"
      },
      "outputs": [],
      "source": [
        "import json\n",
        "file_handle = open(\"/content/drive/MyDrive/Semantic Search/data.json\")\n",
        "data = json.load(file_handle)\n",
        "file_handle.close()"
      ]
    },
    {
      "cell_type": "code",
      "execution_count": null,
      "metadata": {
        "colab": {
          "background_save": true
        },
        "id": "5UXvICVRK40w",
        "outputId": "60633fc4-73a9-4e4e-c26f-1fc69726048d"
      },
      "outputs": [
        {
          "data": {
            "text/plain": [
              "['A pandemic (from Greek πᾶν, pan, \"all\" and δῆμος, demos, \"people\") is an epidemic of an infectious disease that has spread across a large region, for instance multiple continents or worldwide, affecting a substantial number of people. A widespread endemic disease with a stable number of infected people is not a pandemic. Widespread endemic diseases with a stable number of infected people such as recurrences of seasonal influenza are generally excluded as they occur simultaneously in large regions of the globe rather than being spread worldwide.\\nThroughout human history, there have been a number of pandemics of diseases such as smallpox and tuberculosis. The most fatal pandemic in recorded history was the Black Death (also known as The Plague), which killed an estimated 75–200 million people in the 14th century. The term was not used yet but was for later pandemics including the 1918 influenza pandemic (Spanish flu). Current pandemics include COVID-19 (SARS-CoV-2) and HIV/AIDS.',\n",
              " 'HIV/AIDS, or Human Immunodeficiency Virus, is considered by some authors a global pandemic. However, the WHO currently uses the term \\'global epidemic\\' to describe HIV. As of 2018, approximately 37.9 million people are infected with HIV globally.There were about 770,000 deaths from AIDS in 2018.The 2015 Global Burden of Disease Study, in a report published in The Lancet, estimated that the global incidence of HIV infection peaked in 1997 at 3.3 million per year. Global incidence fell rapidly from 1997 to 2005, to about 2.6 million per year, but remained stable from 2005 to 2015.Sub-Saharan Africa is the region most affected. In 2018, an estimated 61% of new HIV infections occurred in this region. Prevalence ratios are \"In western and central Europe and North America, low and declining incidence of HIV and mortality among people infected with HIV over the last 17 years has seen the incidence:prevalence ratio fall from 0.06 in 2000 to 0.03 in 2017. Strong and steady reductions in new HIV infections and mortality among people infected with HIV in eastern and southern Africa has pushed the ratio down from 0.11 in 2000 to 0.04 in 2017. Progress has been more gradual in Asia and the Pacific (0.05 in 2017), Latin America (0.06 in 2017), the Caribbean (0.05 in 2017) and western and central Africa (0.06 in 2017). The incidence:prevalence ratios of the Middle East and North Africa (0.08 in 2017) and eastern Europe and central Asia (0.09 in 2017)\". South Africa has the largest population of people with HIV of any country in the world, at 7.06 million  as of 2017. In Tanzania, HIV/AIDS was reported to have a prevalence of 4.5% among Tanzanian adults aged 15–49 in 2017.South & South-East Asia (a region with about 2 billion people as of 2010, over 30% of the global population) has an estimated 4 million cases (12% of all people infected with HIV), with about 250,000 deaths in 2010. Approximately 2.5 million of these cases are in India, where however the prevalence is only about 0.3% (somewhat higher than that found in Western and Central Europe or Canada). Prevalence is lowest in East Asia at 0.1%.In 2017, approximately 1 million people in the United States had HIV; 14% did not realize that they were infected.In 2017, 93,385 people (64,472 men and 28,877 women) living with diagnosed HIV infection received HIV care in the UK and 428 deaths. 42,739 (nearly 50%) of those are gay or bisexual, a small segment of the overall population. \\nIn Australia, as of 2017, there were about 27,545 cases. \\nIn Canada as of 2016, there were about 63,110 cases.A reconstruction of its genetic history shows that the HIV pandemic almost certainly originated in Kinshasa, the capital of the Democratic Republic of the Congo, around 1920. AIDS was first recognized in 1981, in 1983 the HIV virus was discovered and identified as the cause of AIDS, and by 2009 AIDS caused nearly 30 million deaths.',\n",
              " 'The Antonine Plague of 165 to 180 AD, also known as the Plague of Galen (after Galen, the physician who described it), was an ancient pandemic brought to the Roman Empire by troops who were returning from campaigns in the Near East. Scholars have suspected it to have been either smallpox or measles. The plague may have claimed the life of a Roman emperor, Lucius Verus, who died in 169 and was the co-regent of Marcus Aurelius Antoninus, whose family name, Antoninus, has become associated with the pandemic. \\nAncient sources agree that the plague appeared first during the Roman siege of the Mesopotamian city Seleucia in the winter of 165–166. Ammianus Marcellinus reported that the plague spread to Gaul and to the legions along the Rhine. Eutropius stated that a large population died throughout the empire. According to the contemporary Roman historian Cassius Dio, the disease broke out again nine years later in 189 AD and caused up to 2,000 deaths a day in Rome, one quarter of those who were affected. The total death count has been estimated at 5 million, and the disease killed as much as one third of the population in some areas and devastated the Roman army.Australian sinologist and historian Rafe de Crespigny speculates that the plague may have also broken out in Eastern Han China before 166 because of notices of plagues in Chinese records. The plague affected Roman culture and literature and may have severely affected Indo-Roman trade relations in the Indian Ocean.',\n",
              " 'In epidemiology, the basic reproduction number, or basic reproductive number (sometimes called basic reproduction ratio or basic reproductive rate), denoted \\n  \\n    \\n      \\n        \\n          R\\n          \\n            0\\n          \\n        \\n      \\n    \\n    {\\\\displaystyle R_{0}}\\n   (pronounced R nought or R zero), of an infection can be thought of as the expected number of cases directly generated by one case in a population where all individuals are susceptible to infection. The definition describes the state where no other individuals are infected or immunized (naturally or through vaccination). Some definitions, such as that of the Australian Department of Health, add absence of \"any deliberate intervention in disease transmission\". The basic reproduction number is not to be confused with the effective reproduction number \\n  \\n    \\n      \\n        R\\n      \\n    \\n    {\\\\displaystyle R}\\n   (usually written \\n  \\n    \\n      \\n        \\n          R\\n          \\n            t\\n          \\n        \\n      \\n    \\n    {\\\\displaystyle R_{t}}\\n   [t for time], sometimes \\n  \\n    \\n      \\n        \\n          R\\n          \\n            e\\n          \\n        \\n      \\n    \\n    {\\\\displaystyle R_{e}}\\n  ), which is the number of cases generated in the current state of a population, which does not have to be the uninfected state. Also, it is important to note that \\n  \\n    \\n      \\n        \\n          R\\n          \\n            0\\n          \\n        \\n      \\n    \\n    {\\\\displaystyle R_{0}}\\n   is a dimensionless number and not a rate, which would have units of time−1, or units of time like doubling time.\\n  \\n    \\n      \\n        \\n          R\\n          \\n            0\\n          \\n        \\n      \\n    \\n    {\\\\displaystyle R_{0}}\\n   is not a biological constant for a pathogen as it is also affected by other factors such as environmental conditions and the behaviour of the infected population. Furthermore \\n  \\n    \\n      \\n        \\n          R\\n          \\n            0\\n          \\n        \\n      \\n    \\n    {\\\\displaystyle R_{0}}\\n   values are usually estimated from mathematical models, and the estimated values are dependent on the model used and values of other parameters. Thus values given in the literature only make sense in the given context and it is recommended not to use obsolete values or compare values based on different models. \\n  \\n    \\n      \\n        \\n          R\\n          \\n            0\\n          \\n        \\n      \\n    \\n    {\\\\displaystyle R_{0}}\\n   does not by itself give an estimate of how fast an infection spreads in the population.\\nThe most important uses of \\n  \\n    \\n      \\n        \\n          R\\n          \\n            0\\n          \\n        \\n      \\n    \\n    {\\\\displaystyle R_{0}}\\n   are determining if an emerging infectious disease can spread in a population and determining what proportion of the population should be immunized through vaccination to eradicate a disease. In commonly used infection models, when \\n  \\n    \\n      \\n        \\n          R\\n          \\n            0\\n          \\n        \\n        >\\n        1\\n      \\n    \\n    {\\\\displaystyle R_{0}>1}\\n   the infection will be able to start spreading in a population, but not if \\n  \\n    \\n      \\n        \\n          R\\n          \\n            0\\n          \\n        \\n        <\\n        1\\n      \\n    \\n    {\\\\displaystyle R_{0}<1}\\n  . Generally, the larger the value of \\n  \\n    \\n      \\n        \\n          R\\n          \\n            0\\n          \\n        \\n      \\n    \\n    {\\\\displaystyle R_{0}}\\n  , the harder it is to control the epidemic. For simple models, the proportion of the population that needs to be effectively immunized (meaning not susceptible to infection) to prevent sustained spread of the infection has to be larger than \\n  \\n    \\n      \\n        1\\n        −\\n        1\\n        \\n          /\\n        \\n        \\n          R\\n          \\n            0\\n          \\n        \\n      \\n    \\n    {\\\\displaystyle 1-1/R_{0}}\\n  . Conversely, the proportion of the population that remains susceptible to infection in the endemic equilibrium is \\n  \\n    \\n      \\n        1\\n        \\n          /\\n        \\n        \\n          R\\n          \\n            0\\n          \\n        \\n      \\n    \\n    {\\\\displaystyle 1/R_{0}}\\n  .\\nThe basic reproduction number is affected by several factors, including the duration of infectivity of affected people, the infectiousness of the microorganism, and the number of susceptible people in the population that the infected people contact.',\n",
              " 'Bills of mortality were the weekly mortality statistics in London, designed to monitor burials from 1592 to 1595 and then continuously from 1603. The responsibility to produce the statistics was chartered in 1611 to the Worshipful Company of Parish Clerks. The bills covered an area that started to expand as London grew from the City of London, before reaching its maximum extent in 1636. New parishes were then only added where ancient parishes within the area were divided. Factors such as the use of suburban cemeteries outside the area, the exemption of extra-parochial places within the area, the wider growth of the metropolis, and that they recorded burials rather than deaths, rendered their data incomplete. Production of the bills went into decline from 1819 as parishes ceased to provide returns, with the last surviving weekly bill dating from 1858. They were superseded by the weekly returns of the Registrar General from 1840, taking in further parishes until 1847. This area became the district of the Metropolitan Board of Works in 1855, the County of London in 1889 and Inner London in 1965.',\n",
              " \"Cholera is an infection of the small intestine by some strains of the bacterium Vibrio cholerae. Symptoms may range from none, to mild, to severe. The classic symptom is large amounts of watery diarrhea that lasts a few days. Vomiting and muscle cramps may also occur. Diarrhea can be so severe that it leads within hours to severe dehydration and electrolyte imbalance. This may result in sunken eyes, cold skin, decreased skin elasticity, and wrinkling of the hands and feet. Dehydration can cause the skin to turn bluish. Symptoms start two hours to five days after exposure.Cholera is caused by a number of types of Vibrio cholerae, with some types producing more severe disease than others. It is spread mostly by unsafe water and unsafe food that has been contaminated with human feces containing the bacteria. Undercooked seafood is a common source. Humans are the only animal affected. Risk factors for the disease include poor sanitation, not enough clean drinking water, and poverty. There are concerns that rising sea levels will increase rates of disease. Cholera can be diagnosed by a stool test. A rapid dipstick test is available but is not as accurate.Prevention methods against cholera include improved sanitation and access to clean water. Cholera vaccines that are given by mouth provide reasonable protection for about six months. They have the added benefit of protecting against another type of diarrhea caused by E. coli. The primary treatment is oral rehydration therapy—the replacement of fluids with slightly sweet and salty solutions. Rice-based solutions are preferred. Zinc supplementation is useful in children. In severe cases, intravenous fluids, such as Ringer's lactate, may be required, and antibiotics may be beneficial. Testing to see which antibiotic the cholera is susceptible to can help guide the choice.Cholera affects an estimated 3–5 million people worldwide and causes 28,800–130,000 deaths a year. Although it is classified as a pandemic as of 2010, it is rare in the developed world. Children are mostly affected. Cholera occurs as both outbreaks and chronically in certain areas. Areas with an ongoing risk of disease include Africa and Southeast Asia. The risk of death among those affected is usually less than 5% but may be as high as 50%. No access to treatment results in a higher death rate. Descriptions of cholera are found as early as the 5th century BC in Sanskrit. The study of cholera in England by John Snow between 1849 and 1854 led to significant advances in the field of epidemiology. Seven large outbreaks have occurred over the last 200 years with millions of deaths.\",\n",
              " 'The COVID-19 pandemic, also known as the coronavirus pandemic, is an ongoing pandemic of coronavirus disease 2019 (COVID-19) caused by severe acute respiratory syndrome coronavirus 2 (SARS-CoV-2). The disease was first identified in December 2019 in Wuhan, China. The outbreak was declared a Public Health Emergency of International Concern in January 2020, and a pandemic in March 2020. As of 17 October 2020, more than 39.5 million cases have been confirmed, with more than 1.1 million deaths attributed to COVID-19.\\n\\nCommon symptoms include fever, cough, fatigue, breathing difficulties, and loss of smell. Complications may include pneumonia and acute respiratory distress syndrome. The incubation period is typically around five days but may range from one to 14 days. There are several vaccine candidates in development, although none have proven their safety and efficacy. There is no known specific antiviral medication, so primary treatment is currently symptomatic.\\nRecommended preventive measures include hand washing, covering mouth or wearing face mask when sneezing or coughing, social distancing, disinfecting surfaces, ventilation and air-filtering, and monitoring and self-isolation if exposed or symptomatic. Travel restrictions, lockdowns, workplace hazard controls, and facility closures have been implemented. Many places have also worked to increase testing capacity and trace contacts of the infected. These have caused social and economic disruption, including the largest global recession since the Great Depression. Extreme poverty and global famines are affecting hundreds of millions, inflamed by supply shortages. Many events, the environment and education systems have also been affected. Misinformation about the virus has circulated globally. There have been many incidents of xenophobia and racism against Chinese people and against those perceived as being Chinese or as being from areas with high infection rates.',\n",
              " \"Crimson Contagion was a joint exercise conducted from January to August 2019, in which numerous national, state and local, private and public organizations in the US participated, in order to test the capacity of the federal government and twelve states to respond to a severe pandemic of influenza originating in China.\\nThe simulation, which was conducted months prior to the start of the COVID-19 pandemic, involves a scenario in which tourists returning from China spread a respiratory virus in the United States, beginning in Chicago. In less than two months the virus had infected 110 million Americans, killing more than half a million. The report issued at the conclusion of the exercise outlines the government's limited capacity to respond to a pandemic, with federal agencies lacking the funds, coordination, and resources to facilitate an effective response to the virus.\",\n",
              " \"Disease X is a placeholder name that was adopted by the World Health Organization (WHO) in February 2018 on their shortlist of blueprint priority diseases to represent a hypothetical, unknown pathogen that could cause a future epidemic. The WHO adopted the placeholder name to ensure that their planning was sufficiently flexible to adapt to an unknown pathogen (e.g. broader vaccines and manufacturing facilities).  Director of the US National Institute of Allergy and Infectious Diseases Anthony Fauci stated that the concept of Disease X would encourage WHO projects to focus their research efforts on entire classes of viruses (e.g. flaviviruses), instead of just individual strains (e.g. zika virus), thus improving WHO capability to respond to unforeseen strains.  In 2020, it was speculated, including among some of the WHO's own expert advisors, that COVID-19, caused by SARS-CoV-2 virus strain, met the requirements to be the first Disease X.\",\n",
              " 'The Johns Hopkins Center for Health Security (abbreviated CHS; previously the UPMC Center for Health Security, the Center for Biosecurity of UPMC, and the Johns Hopkins Center for Civilian Biodefense Strategies) is an independent, nonprofit organization of the Johns Hopkins Bloomberg School of Public Health, and part of the Environmental Health and Engineering department. It is concerned with the areas of health consequences from epidemics and disasters as well as averting biological weapons development, and implications of biosecurity for the bioeconomy. It is a think tank that does policy research and gives policy recommendations to the United States government as well as the World Health Organization and the UN Biological Weapons Convention.',\n",
              " \"Human immunodeficiency virus infection and acquired immune deficiency syndrome (HIV/AIDS) is a spectrum of conditions caused by infection with the human immunodeficiency virus (HIV). Following initial infection a person may not notice any symptoms, or may experience a brief period of influenza-like illness. Typically, this is followed by a prolonged period with no symptoms. If the infection progresses, it interferes more with the immune system, increasing the risk of developing common infections such as tuberculosis, as well as other opportunistic infections, and tumors which are otherwise rare in people who have normal immune function. These late symptoms of infection are referred to as acquired immunodeficiency syndrome (AIDS). This stage is often also associated with unintended weight loss.HIV is spread primarily by unprotected sex (including anal and oral sex), contaminated blood transfusions, hypodermic needles, and from mother to child during pregnancy, delivery, or breastfeeding. Some bodily fluids, such as saliva, sweat and tears, do not transmit the virus. HIV is a member of the group of viruses known as retroviruses.Methods of prevention include safe sex, needle exchange programs, treating those who are infected, and pre- & post-exposure prophylaxis. Disease in a baby can often be prevented by giving both the mother and child antiretroviral medication. There is no cure or vaccine; however, antiretroviral treatment can slow the course of the disease and may lead to a near-normal life expectancy. Treatment is recommended as soon as the diagnosis is made. Without treatment, the average survival time after infection is 11 years.In 2018, about 37.9 million people were living with HIV and it resulted in 770,000 deaths. An estimated 20.6 million of these live in eastern and southern Africa. Between the time that AIDS was identified (in the early 1980s) and 2018, the disease caused an estimated 32 million deaths worldwide. HIV/AIDS is considered a pandemic—a disease outbreak which is present over a large area and is actively spreading.HIV made the jump from other primates to humans in west-central Africa in the early-to-mid 20th century. AIDS was first recognized by the United States Centers for Disease Control and Prevention (CDC) in 1981 and its cause—HIV infection—was identified in the early part of the decade.\\nHIV/AIDS has had a large impact on society, both as an illness and as a source of discrimination. The disease also has large economic impacts. There are many misconceptions about HIV/AIDS, such as the belief that it can be transmitted by casual non-sexual contact. The disease has become subject to many controversies involving religion, including the Catholic Church's position not to support condom use as prevention. It has attracted international medical and political attention as well as large-scale funding since it was identified in the 1980s.\",\n",
              " \"The People's Republic of China's first reported AIDS case was identified in 1985 in a dying tourist. In 1989, the first indigenous cases were reported as an outbreak in 146 infected heroin users in Yunnan province, near China's southwest border.Yunnan is the area most affected by HIV/AIDS in China. In 1989 first infections appeared among needle sharing drug users near the Burmese border. Up until 1993, the disease had remained a problem in the border areas before mobile people (truck drivers, construction and migrant workers and travelers) brought the virus further into the country. In 1995, the provinces of Sichuan and Xinjiang reported their first HIV cases, and by 1998, the virus had spread all over China.\\nLow awareness of the disease among China's general population appears to be a major culprit. Most Chinese consider HIV/AIDS as a foreign issue, and even educated people are less knowledgeable of the virus, its transmission and prevention, than people in other countries. Until recently, the use of condoms was not very common, even among sex workers and their clients. As a result, the epidemic has spread from high-risk groups (drug users, sex workers, unsafe blood donors) to the general population.\",\n",
              " 'Pandemic prevention is the organization and management of preventive measures against pandemics. Those include measures to reduce causes of new infectious diseases and measures to prevent outbreaks and epidemics from becoming pandemics.\\nIt is not to be mistaken for pandemic preparedness or pandemic mitigation which largely seek to mitigate the magnitude of negative effects of pandemics and may overlap with pandemic prevention in some respects.',\n",
              " \"The Pandemic Severity Assessment Framework (PSAF) is an evaluation framework which uses quadrants to evaluate both the transmissibility and clinical severity of a pandemic and to combine these into an overall impact estimate.\\nClinical severity is calculated via multiple measures including case fatality rate, case-hospitalization ratios, and deaths-hospitalizations ratios, while viral transmissibility is measured via available data among secondary household attack rates, school attack rates, workplace attack rates, community attack rates, rates of emergency department and outpatient visits for influenza-like illness.The PSAF superseded the 2007 linear Pandemic Severity Index (PSI), which assumed 30% spread and measured case fatality rate (CFR) to assess the severity and evolution of the pandemic. The United States Centers for Disease Control and Prevention (CDC) adopted the PSAF as its official pandemic severity assessment tool in 2014, and it was the official pandemic severity assessment tool listed in the CDC's National Pandemic Strategy at the time of the COVID-19 pandemic.\",\n",
              " 'The pandemic severity index (PSI) was a proposed classification scale for reporting the severity of influenza pandemics in the United States. The PSI was accompanied by a set of guidelines intended to help communicate appropriate actions for communities to follow in potential pandemic situations. Released by the United States Department of Health and Human Services (HHS) on February 1, 2007, the PSI was designed to resemble the Saffir-Simpson Hurricane Scale classification scheme. The index was replaced by the Pandemic Severity Assessment Framework in 2014, which uses quadrants based on transmissibility and clinical severity rather than a linear scale.',\n",
              " 'The Plague of Cyprian was a pandemic that afflicted the Roman Empire about from AD 249 to 262. The plague is thought to have caused widespread manpower shortages for food production and the Roman army, severely weakening the empire during the Crisis of the Third Century. Its modern name commemorates St. Cyprian, bishop of Carthage, an early Christian writer who witnessed and described the plague. The agent of the plague is highly speculative because of sparse sourcing, but suspects have included smallpox, pandemic influenza and viral hemorrhagic fever (filoviruses) like the Ebola virus.',\n",
              " 'PREDICT was an epidemiological research program funded by a United States Agency for International Development (USAID) grant.  Launched in 2009, the program was described as an early warning pandemic system.',\n",
              " 'The 1929–1930 psittacosis pandemic, also known as the psittacosis outbreak of 1929–1930 and the great parrot fever pandemic, was a series of simultaneous outbreaks of psittacosis (parrot fever) which, accelerated by the breeding and transportation of birds in crowded containers for the purpose of trade, was initially seen to have its origin in parrots from South America. It was shortly found to have spread from several species of birds from several countries worldwide to humans between mid 1929 and early 1930. Diagnosed by its clinical features and link to birds, it affected around 750 to 800 people globally, with a mortality of 15%. Its mode of transmission to humans by mouth-to-beak contact or inhaling dried bird secretions and droppings was not known at the time. The cause, Chlamydia psittaci, which usually remains dormant in birds until activated by stress of capture and confinement, was discovered after the pandemic.\\nCases were reported in mid 1929, in Birmingham, United Kingdom, and linked to parrots from Buenos Aires, Argentina, where an ongoing outbreak of the disease had led to cautioning bird owners to declare their sick parrots. The origin of the outbreak in the Argentine city of Córdoba was traced to an import of 5,000 parrots from Brazil. Although the Argentine parrot trade was stopped, a number of birds were illegally sold on to visitors to its seaports, with the consequence that psittacosis was transmitted to several countries.\\nIn November 1929, reports of cases among an Argentine theatrical group in Córdoba made it into the local press. In January 1930, when cases of an atypical pneumonia in one family, with the death of their parrot, appeared in Maryland, United States, a link was made to the story of the theatrical group, and \"parrot fever\" made headlines in the American press. Following further cases, bans on parrot trades were implemented, and subsequently cases were reported in several other countries, including Germany, France and Australia. The origin was understood to have been the importation of green Amazon parrots from South America. Later, the principal source of the disease in the U.S. was domestic lovebirds raised in Californian aviaries, and sold to mainly housewives and widows.\\nThe impact of the outbreak on the U.S. Hygienic Laboratory, with 16 of its workers affected, including two deaths, led to the formation of the National Institute of Health.',\n",
              " 'Science diplomacy is the collaborative efforts by local and global entities to solve global issues using science and technology as a base. In science diplomacy, collaboration takes place to advance science but science can also be used to facilitate diplomatic relations. This allows even conflicting nations to come together through science to find solutions to global issues. Global organizations, researchers, public health officials, countries, government officials, and clinicians have previously worked together to create effective measures of infection control and subsequent treatment. They continue to do so through sharing of resources, research data, ideas, and by putting into effect laws and regulations that can further advance scientific research. Without the collaborative efforts of such entities, the world would not have the vaccines and treatments we now possess for diseases that were once considered deadly such as tuberculosis, tetanus, polio, influenza, etc. Historically, science diplomacy has proved successful in diseases such as SARS, Ebola, Zika and continues to be relevant during the COVID-19 pandemic today.',\n",
              " 'The Spanish flu, also known as the 1918 flu pandemic, was an unusually deadly influenza pandemic caused by the H1N1 influenza A virus. Lasting from February 1918 to April 1920, it infected 500 million people – about a third of the world\\'s population at the time – in four successive waves. The death toll is typically estimated to have been somewhere between 17 million and 50 million, and possibly as high as 100 million, making it one of the deadliest pandemics in human history.The first observations of illness and mortality were documented in the United States (in Fort Riley, Haskell County, Kansas as well as in New York City), France (Brest), Germany and the United Kingdom. To maintain morale, World War I censors minimized these early reports. Newspapers were free to report the epidemic\\'s effects in neutral Spain, such as the grave illness of King Alfonso XIII, and these stories created a false impression of Spain as especially hard hit. This gave rise to the name \"Spanish\" flu. Historical and epidemiological data are inadequate to identify with certainty the pandemic\\'s geographic origin, with varying views as to its location.\\nMost influenza outbreaks disproportionately kill the very young and the very old, with a higher survival rate for those in between, but the Spanish flu pandemic resulted in a higher-than-expected mortality rate for young adults. Scientists offer several possible explanations for the high mortality rate of the 1918 influenza pandemic. Some analyses have shown the virus to be particularly deadly because it triggers a cytokine storm, which ravages the stronger immune system of young adults. In contrast, a 2007 analysis of medical journals from the period of the pandemic found that the viral infection was no more aggressive than previous influenza strains. Instead, malnourishment, overcrowded medical camps and hospitals, and poor hygiene, all exacerbated by the recent war, promoted bacterial superinfection. This superinfection killed most of the victims, typically after a somewhat prolonged death bed.The 1918 Spanish flu was the first of two pandemics caused by H1N1 influenza A virus; the second was the 2009 swine flu pandemic.',\n",
              " 'A superspreader is an unusually contagious organism infected with a disease. In the context of a human-borne illness, a superspreader is an individual who is more likely to infect others, compared with a typical infected person. Such superspreaders are of particular concern in epidemiology.\\nSome cases of superspreading conform to the 80/20 rule, where approximately 20% of infected individuals are responsible for 80% of transmissions, although superspreading can still be said to occur when superspreaders account for a higher or lower percentage of transmissions.  In epidemics with such superspreader events (SSEV), the majority of individuals infect relatively few secondary contacts.SSEVs are shaped by multiple factors including a decline in herd immunity, nosocomial infections, virulence, viral load, misdiagnosis, airflow dynamics, immune suppression, and co-infection with another pathogen.',\n",
              " 'Swine influenza is an infection caused by any one of several types of swine influenza viruses. Swine influenza virus (SIV) or swine-origin influenza virus (S-OIV) is any strain of the influenza family of viruses that is endemic in pigs. As of 2009, the known SIV strains include influenza C and the subtypes of  influenza A known as H1N1, H1N2, H2N1, H3N1, H3N2, and H2N3.\\nSwine influenza virus is common throughout pig populations worldwide. Transmission of the virus from pigs to humans is not common and does not always lead to human flu, often resulting only in the production of antibodies in the blood. If transmission does cause human flu, it is called zoonotic swine flu. People with regular exposure to pigs are at increased risk of swine flu infection.\\nAround the mid-20th century, identification of influenza subtypes became possible, allowing accurate diagnosis of transmission to humans. Since then, only 50 such transmissions have been confirmed. These strains of swine flu rarely pass from human to human. Symptoms of zoonotic swine flu in humans are similar to those of influenza and of influenza-like illness in general, namely chills, fever, sore throat, muscle pains, severe headache, coughing, weakness, shortness of breath, and general discomfort.\\nIt is estimated that in the 2009 flu pandemic 11–21% of the then global population (of about 6.8 billion), or around 700 million to 1.4 billion people, contracted the illness—more in absolute terms than the Spanish flu pandemic. Actual fatalities ranged between 12,000 and 18,000. However, in a 2012 study, the CDC estimated more than 284,000 possible fatalities worldwide, with range from 150,000 to 575,000.\\nIn August 2010, the World Health Organization declared the swine flu pandemic officially over.Subsequent cases of swine flu were reported in India in 2015, with over 31,156 positive test cases and 1,841 deaths up to March 2015.',\n",
              " 'Targeted immunization strategies are approaches designed to increase the immunization level of populations and decrease the chances of epidemic outbreaks. Though often in regards to use in healthcare practices and the administration of vaccines to prevent biological epidemic outbreaks, these strategies refer in general to immunization schemes in complex networks, biological, social or artificial in nature. Identification of at-risk groups and individuals with higher odds of spreading the disease often plays an important role in these strategies.',\n",
              " \"The Unified Victim Identification System (UVIS) is an Internet-enabled database system developed for the Office of Chief Medical Examiner of the City of New York (OCME) in the aftermath of the September 11 attacks on New York City and the crash of American Airlines Flight 587.  It is intended to handle critical fatality management functions made necessary by a major disaster. UVIS is a strong flexible role-based application and permissions can be controlled dynamically.In the event of a mass casualty event, it will initially be used by New York City's 311 call center operators, the New York Police Department, and OCME to gather key information to facilitate compiling an accurate list of missing persons.  UVIS will also be used by the OCME to track decedents and collect postmortem findings to facilitate the identification process after a disaster.  UVIS also contains a Pandemic Flu module to prepare against such an eventuality.  UVIS is a strong flexible role-based application and permissions can be controlled dynamically.\\nUVIS was built for the OCME by Nihilent, a consulting & solution integration company, and is a leading design thinking company, (formerly known as ICRA Sapphire).Developed with public funds, UVIS is available to municipalities, counties, states, and other governmental agencies without charge, under license from New York City. Currently UVIS is in use at the Office of Chief Medical Examiner of the City of New York (OCME) and the State of New Jersey (OCSME).\",\n",
              " 'Viral load, also known as viral burden, viral titre or viral titer, is a numerical expression of the quantity of virus in a given volume of fluid; sputum and blood plasma being two bodily fluids. For example, the viral load of norovirus can be determined from run-off water on garden produce. Norovirus has not only prolonged viral shedding and has the ability to survive in the environment but a minuscule infectious dose is required to produce infection in humans: less than 100 viral particles.Viral load is often expressed as viral particles, or infectious particles per mL depending on the type of assay. A higher viral burden, titre, or viral load often correlates with the severity of an active viral infection. The quantity of virus / mL can be calculated by estimating the live amount of virus in an involved fluid. For example, it can be given in RNA copies per millilitre of blood plasma.\\nTracking viral load is used to monitor therapy during chronic viral infections, and in immunocompromised patients such as those recovering from bone marrow or solid organ transplantation. Currently, routine testing is available for HIV-1, cytomegalovirus, hepatitis B virus, and hepatitis C virus. Viral load monitoring for HIV is of particular interest in the treatment of people with HIV, as this is continually discussed in the context of management of HIV/AIDS.',\n",
              " 'A virus is a submicroscopic infectious agent that replicates only inside the living cells of an organism. Viruses infect all types of life forms, from animals and plants to microorganisms, including bacteria and archaea.\\nSince Dmitri Ivanovsky\\'s 1892 article describing a non-bacterial pathogen infecting tobacco plants and the discovery of the tobacco mosaic virus by Martinus Beijerinck in 1898, more than 6,000  virus species have been described in detail of the millions of types of viruses in the environment. Viruses are found in almost every ecosystem on Earth and are the most numerous type of biological entity. The study of viruses is known as virology, a subspeciality of microbiology.\\nWhen infected, a host cell is forced to rapidly produce thousands of identical copies of the original virus. When not inside an infected cell or in the process of infecting a cell, viruses exist in the form of independent particles, or virions, consisting of: (i) the genetic material, i.e., long molecules of DNA or RNA that encode the structure of the proteins by which the virus acts; (ii) a protein coat, the capsid, which surrounds and protects the genetic material; and in some cases (iii) an outside envelope of lipids. The shapes of these virus particles range from simple helical and icosahedral forms to more complex structures. Most virus species have virions too small to be seen with an optical microscope, as they are one-hundredth the size of most bacteria.\\nThe origins of viruses in the evolutionary history of life are unclear: some may have evolved from plasmids—pieces of DNA that can move between cells—while others may have evolved from bacteria. In evolution, viruses are an important means of horizontal gene transfer, which increases genetic diversity in a way analogous to sexual reproduction. Viruses are considered by some biologists to be a life form, because they carry genetic material, reproduce, and evolve through natural selection, although they lack the key characteristics, such as cell structure, that are generally considered necessary criteria for life. Because they possess some but not all such qualities, viruses have been described as \"organisms at the edge of life\", and as self-replicators.Viruses spread in many ways. One transmission pathway is through disease-bearing organisms known as vectors: for example, viruses are often transmitted from plant to plant by insects that feed on plant sap, such as aphids; and viruses in animals can be carried by blood-sucking insects. Influenza viruses are spread by coughing and sneezing. Norovirus and rotavirus, common causes of viral gastroenteritis, are transmitted by the faecal–oral route, passed by hand-to-mouth contact or in food or water. The infectious dose of norovirus required to produce infection in humans is less than 100 particles. HIV is one of several viruses transmitted through sexual contact and by exposure to infected blood. The variety of host cells that a virus can infect is called its \"host range\". This can be narrow, meaning a virus is capable of infecting few species, or broad, meaning it is capable of infecting many.Viral infections in animals provoke an immune response that usually eliminates the infecting virus. Immune responses can also be produced by vaccines, which confer an artificially acquired immunity to the specific viral infection. Some viruses, including those that cause AIDS, HPV infection, and viral hepatitis, evade these immune responses and result in chronic infections. Several antiviral drugs have been developed.']"
            ]
          },
          "execution_count": null,
          "metadata": {},
          "output_type": "execute_result"
        }
      ],
      "source": [
        "documents_file = [doc[\"text\"] for doc in data]\n",
        "documents_file"
      ]
    },
    {
      "cell_type": "code",
      "execution_count": null,
      "metadata": {
        "colab": {
          "base_uri": "https://localhost:8080/"
        },
        "id": "hJz47X0xNvtA",
        "outputId": "bd8858fe-8a92-45a6-a838-d6f40a082401"
      },
      "outputs": [
        {
          "data": {
            "text/plain": [
              "{'input_ids': tensor([[  101,  1037,  6090,  3207,  7712,  2003,  2019, 16311,  1997,  2019,\n",
              "         16514,  4295,  2008,  2038,  3659,  2408,  1037,  2312,  2555,  1010,\n",
              "          2005,  6013,  3674, 17846,  2030,  4969,  1010, 12473,  1037,  6937,\n",
              "          2193,  1997,  2111,  1012,   102]]), 'attention_mask': tensor([[1, 1, 1, 1, 1, 1, 1, 1, 1, 1, 1, 1, 1, 1, 1, 1, 1, 1, 1, 1, 1, 1, 1, 1,\n",
              "         1, 1, 1, 1, 1, 1, 1, 1, 1, 1, 1]])}"
            ]
          },
          "execution_count": 8,
          "metadata": {},
          "output_type": "execute_result"
        }
      ],
      "source": [
        "tokenizer = token(data[0], return_tensors='pt')\n",
        "tokenizer"
      ]
    },
    {
      "cell_type": "code",
      "execution_count": null,
      "metadata": {
        "colab": {
          "base_uri": "https://localhost:8080/"
        },
        "id": "kEW2H3W7OClV",
        "outputId": "40c5488d-5199-4d22-b84b-9f19824f1e04"
      },
      "outputs": [
        {
          "data": {
            "text/plain": [
              "tensor([[[ 0.1025, -0.2056, -0.5713,  ..., -0.0051,  0.1253,  0.7564],\n",
              "         [-0.3454, -0.0013, -0.7068,  ..., -0.3020,  0.0376,  0.4525],\n",
              "         [ 0.0288, -0.1346, -0.0729,  ..., -0.2813,  0.3779, -0.0193],\n",
              "         ...,\n",
              "         [ 0.2545,  0.4376, -0.0790,  ..., -0.3760, -0.1083, -0.3239],\n",
              "         [ 0.8220,  0.1464, -0.5341,  ...,  0.1889, -0.5492, -0.2128],\n",
              "         [ 0.1956,  0.2456, -0.4352,  ..., -0.0896, -0.2934,  0.2751]]],\n",
              "       grad_fn=<NativeLayerNormBackward0>)"
            ]
          },
          "execution_count": 9,
          "metadata": {},
          "output_type": "execute_result"
        }
      ],
      "source": [
        "model(**tokenizer)[0]"
      ]
    },
    {
      "cell_type": "code",
      "execution_count": null,
      "metadata": {
        "id": "Qe8RUukBLT6E"
      },
      "outputs": [],
      "source": [
        "def encoder(document):\n",
        "\n",
        "  return model(**token(text = document, truncation=True, return_tensors='pt'))[0].detach().squeeze()"
      ]
    },
    {
      "cell_type": "code",
      "execution_count": null,
      "metadata": {
        "id": "FG82trbYLzDk"
      },
      "outputs": [],
      "source": [
        "sentence_embeding = []\n",
        "for doc in data:\n",
        "  sentence_embeding.append(encoder(doc))"
      ]
    },
    {
      "cell_type": "code",
      "execution_count": null,
      "metadata": {
        "colab": {
          "base_uri": "https://localhost:8080/"
        },
        "id": "8J6D4YLwpXV0",
        "outputId": "37c0bdbb-cdee-4714-af84-53f61b56e973"
      },
      "outputs": [
        {
          "name": "stdout",
          "output_type": "stream",
          "text": [
            "torch.Size([35, 768])\n",
            "torch.Size([37, 768])\n",
            "torch.Size([25, 768])\n",
            "torch.Size([18, 768])\n",
            "torch.Size([24, 768])\n",
            "torch.Size([55, 768])\n",
            "torch.Size([57, 768])\n",
            "torch.Size([24, 768])\n",
            "torch.Size([27, 768])\n",
            "torch.Size([35, 768])\n",
            "torch.Size([43, 768])\n"
          ]
        }
      ],
      "source": [
        "for i in sentence_embeding:\n",
        "  print(i.size())  "
      ]
    },
    {
      "cell_type": "code",
      "execution_count": null,
      "metadata": {
        "id": "KRBOMuvDOZ3-"
      },
      "outputs": [],
      "source": [
        "import torch"
      ]
    },
    {
      "cell_type": "code",
      "execution_count": null,
      "metadata": {
        "id": "RF8QLnGiMB2g"
      },
      "outputs": [],
      "source": [
        "word2vec = []\n",
        "for doc in sentence_embeding:\n",
        "  word2vec.append(torch.mean(doc, axis = 0))"
      ]
    },
    {
      "cell_type": "code",
      "execution_count": null,
      "metadata": {
        "colab": {
          "base_uri": "https://localhost:8080/"
        },
        "id": "jjKTg5fKMLL1",
        "outputId": "186ef3ea-7f56-4658-aa2c-251dba3c11d3"
      },
      "outputs": [
        {
          "name": "stdout",
          "output_type": "stream",
          "text": [
            "torch.Size([768])\n",
            "torch.Size([768])\n",
            "torch.Size([768])\n",
            "torch.Size([768])\n",
            "torch.Size([768])\n",
            "torch.Size([768])\n",
            "torch.Size([768])\n",
            "torch.Size([768])\n",
            "torch.Size([768])\n",
            "torch.Size([768])\n",
            "torch.Size([768])\n"
          ]
        }
      ],
      "source": [
        "for word in word2vec:\n",
        "  print(word.size())"
      ]
    },
    {
      "cell_type": "code",
      "execution_count": null,
      "metadata": {
        "id": "jqRAl0AjQl6K"
      },
      "outputs": [],
      "source": [
        "import faiss\n",
        "import numpy as np"
      ]
    },
    {
      "cell_type": "code",
      "execution_count": null,
      "metadata": {
        "id": "hcqAtlzNRVvW"
      },
      "outputs": [],
      "source": [
        "index = faiss.IndexFlatIP(768)"
      ]
    },
    {
      "cell_type": "code",
      "execution_count": null,
      "metadata": {
        "colab": {
          "base_uri": "https://localhost:8080/"
        },
        "id": "t4whboKmn2Sz",
        "outputId": "13f77cc6-2191-46e7-8cc3-06a40f80ce62"
      },
      "outputs": [
        {
          "data": {
            "text/plain": [
              "<faiss.swigfaiss.IndexIDMap; proxy of <Swig Object of type 'faiss::IndexIDMapTemplate< faiss::Index > *' at 0x7fba509ada20> >"
            ]
          },
          "execution_count": 243,
          "metadata": {},
          "output_type": "execute_result"
        }
      ],
      "source": [
        "mapping = faiss.IndexIDMap(index )\n",
        "mapping"
      ]
    },
    {
      "cell_type": "code",
      "execution_count": null,
      "metadata": {
        "id": "qs9U9NZitG3f"
      },
      "outputs": [],
      "source": [
        "mapping.add_with_ids(np.array([doc_vec.numpy() for doc_vec in word2vec]),np.arange(0,len(data)))"
      ]
    },
    {
      "cell_type": "code",
      "execution_count": null,
      "metadata": {
        "colab": {
          "base_uri": "https://localhost:8080/"
        },
        "id": "BiZe0C0n0BDs",
        "outputId": "78e4f207-c6a3-4435-91ba-f52f914ef040"
      },
      "outputs": [
        {
          "data": {
            "text/plain": [
              "11"
            ]
          },
          "execution_count": 245,
          "metadata": {},
          "output_type": "execute_result"
        }
      ],
      "source": [
        "len(word2vec)"
      ]
    },
    {
      "cell_type": "code",
      "execution_count": null,
      "metadata": {
        "colab": {
          "base_uri": "https://localhost:8080/"
        },
        "id": "MQkRgVmUzlc7",
        "outputId": "967a91c8-d5f6-4032-e78f-cb43b2c74e7d"
      },
      "outputs": [
        {
          "data": {
            "text/plain": [
              "array([[ 0.04860862,  0.09741875, -0.0493001 , ..., -0.35713515,\n",
              "        -0.17343101,  0.3521632 ],\n",
              "       [-0.12289891, -0.14739096, -0.27448386, ..., -0.15979874,\n",
              "        -0.01640391,  0.22394593],\n",
              "       [-0.1506394 , -0.00387476, -0.16962844, ..., -0.16288328,\n",
              "        -0.05760337,  0.12173302],\n",
              "       ...,\n",
              "       [-0.06405506,  0.00731968, -0.22593707, ..., -0.28433204,\n",
              "         0.06029751,  0.37737986],\n",
              "       [ 0.02226315, -0.11046934, -0.24745277, ..., -0.07326985,\n",
              "        -0.06600287,  0.29851404],\n",
              "       [-0.20975545, -0.11904943,  0.03429305, ..., -0.10559369,\n",
              "         0.1210614 ,  0.13563669]], dtype=float32)"
            ]
          },
          "execution_count": 246,
          "metadata": {},
          "output_type": "execute_result"
        }
      ],
      "source": [
        "np.array([doc_vec.numpy() for doc_vec in word2vec])"
      ]
    },
    {
      "cell_type": "code",
      "execution_count": null,
      "metadata": {
        "id": "7FRE5PWboy_B"
      },
      "outputs": [],
      "source": [
        "file_handle = open(\"/content/drive/MyDrive/Semantic Search/questions.json\")\n",
        "question = json.load(file_handle)\n",
        "file_handle.close()"
      ]
    },
    {
      "cell_type": "code",
      "execution_count": null,
      "metadata": {
        "id": "uHVkXQK7spkM"
      },
      "outputs": [],
      "source": [
        "ques = \"what is a covid-19 ?\""
      ]
    },
    {
      "cell_type": "code",
      "execution_count": null,
      "metadata": {
        "colab": {
          "base_uri": "https://localhost:8080/"
        },
        "id": "XpTWKib0pCIq",
        "outputId": "a3c7863b-6508-4564-94ed-c96f92b07a35"
      },
      "outputs": [
        {
          "data": {
            "text/plain": [
              "['How many people have died during Black Death?',\n",
              " 'Which diseases can be transmitted by animals?',\n",
              " 'Connection between climate change and a likelihood of a pandemic',\n",
              " 'What is an example of a latent virus',\n",
              " 'Viruses in nanotechnology',\n",
              " 'Giant viruses classification',\n",
              " 'What are the notable pandemic prevention organizations?',\n",
              " 'How many leprosy outbreaks are known to happen?',\n",
              " 'What are the geographic areas with the highest transmission of malaria?',\n",
              " 'How to prevent the spread of viral infections?']"
            ]
          },
          "execution_count": 249,
          "metadata": {},
          "output_type": "execute_result"
        }
      ],
      "source": [
        "question"
      ]
    },
    {
      "cell_type": "code",
      "execution_count": null,
      "metadata": {
        "colab": {
          "base_uri": "https://localhost:8080/"
        },
        "id": "jmpXLQ84pD-A",
        "outputId": "f09f8fe6-e262-4bab-9ef9-4c79c7bd3290"
      },
      "outputs": [
        {
          "data": {
            "text/plain": [
              "torch.Size([768])"
            ]
          },
          "execution_count": 250,
          "metadata": {},
          "output_type": "execute_result"
        }
      ],
      "source": [
        "encode_ques_0 = encoder(ques)\n",
        "\n",
        "encoder_ques_0_mean = torch.mean(encode_ques_0,axis=0)\n",
        "\n",
        "encoder_ques_0_mean.size()"
      ]
    },
    {
      "cell_type": "code",
      "execution_count": null,
      "metadata": {
        "id": "Eatfef2OqUyN"
      },
      "outputs": [],
      "source": [
        "encoder_query = encoder_ques_0_mean.unsqueeze(axis=0).numpy()"
      ]
    },
    {
      "cell_type": "code",
      "execution_count": null,
      "metadata": {
        "colab": {
          "base_uri": "https://localhost:8080/"
        },
        "id": "wxKJGV5SqmvF",
        "outputId": "26e2ac67-a2e0-433c-b500-8dbcb7271e44"
      },
      "outputs": [
        {
          "data": {
            "text/plain": [
              "(array([[41.62216 , 41.281242]], dtype=float32), array([[9, 2]]))"
            ]
          },
          "execution_count": 252,
          "metadata": {},
          "output_type": "execute_result"
        }
      ],
      "source": [
        "knn_docs = mapping.search(encoder_query,2)\n",
        "\n",
        "knn_docs"
      ]
    },
    {
      "cell_type": "code",
      "execution_count": null,
      "metadata": {
        "colab": {
          "base_uri": "https://localhost:8080/"
        },
        "id": "oM8quu3Wq8wX",
        "outputId": "134abb15-0d7d-432d-b9c1-e6ebc99771e9"
      },
      "outputs": [
        {
          "data": {
            "text/plain": [
              "array([41.62216 , 41.281242], dtype=float32)"
            ]
          },
          "execution_count": 253,
          "metadata": {},
          "output_type": "execute_result"
        }
      ],
      "source": [
        "knn_docs[0][0]"
      ]
    },
    {
      "cell_type": "code",
      "execution_count": null,
      "metadata": {
        "colab": {
          "base_uri": "https://localhost:8080/"
        },
        "id": "_a0cgMs-rcC_",
        "outputId": "dc2b5302-d434-4c24-da3a-f8f2f93bca4f"
      },
      "outputs": [
        {
          "data": {
            "text/plain": [
              "array([9, 2])"
            ]
          },
          "execution_count": 254,
          "metadata": {},
          "output_type": "execute_result"
        }
      ],
      "source": [
        "knn_docs[1][0]"
      ]
    },
    {
      "cell_type": "code",
      "execution_count": null,
      "metadata": {
        "colab": {
          "base_uri": "https://localhost:8080/"
        },
        "id": "wbIMgbFarxN1",
        "outputId": "09b498fc-bd37-4592-942c-5923d6b5de8e"
      },
      "outputs": [
        {
          "data": {
            "text/plain": [
              "['The Spanish flu, also known as the 1918 flu pandemic, was an unusually deadly influenza pandemic caused by the H1N1 influenza A virus.',\n",
              " 'Current pandemics include COVID-19 (SARS-CoV-2) and HIV/AIDS.']"
            ]
          },
          "execution_count": 255,
          "metadata": {},
          "output_type": "execute_result"
        }
      ],
      "source": [
        "results = [data[idx] for idx in knn_docs[1][0]]\n",
        "results"
      ]
    },
    {
      "cell_type": "code",
      "execution_count": null,
      "metadata": {
        "id": "3uvmR5E2n-m2"
      },
      "outputs": [],
      "source": [
        "def search(query, knn_search):\n",
        "  encode = encoder(query)\n",
        "  encoder_mean = torch.mean(encode, axis = 0)\n",
        "  encoder_query = encoder_mean.unsqueeze(axis =0 ).numpy()\n",
        "  knn_docs = mapping.search(encoder_query, knn_search)\n",
        "  results = [data[idx] for idx in knn_docs[1][0]]\n",
        "  similarity_score = knn_docs[0][0]\n",
        "\n",
        "  return list(zip(results,similarity_score))\n",
        "                            "
      ]
    },
    {
      "cell_type": "code",
      "execution_count": null,
      "metadata": {
        "colab": {
          "base_uri": "https://localhost:8080/"
        },
        "id": "u5WRT6v61d5O",
        "outputId": "ff78a9c0-3693-4747-f029-cdd3e871c8d5"
      },
      "outputs": [
        {
          "data": {
            "text/plain": [
              "[('Current pandemics include COVID-19 (SARS-CoV-2) and HIV/AIDS.', 29.367191),\n",
              " ('The COVID-19 pandemic, also known as the coronavirus pandemic, is an ongoing pandemic of coronavirus disease 2019 (COVID-19) caused by severe acute respiratory syndrome coronavirus 2 (SARS-CoV-2).',\n",
              "  33.297684)]"
            ]
          },
          "execution_count": 241,
          "metadata": {},
          "output_type": "execute_result"
        }
      ],
      "source": [
        "search(question[6],2) # results from IndexFlatL2"
      ]
    },
    {
      "cell_type": "code",
      "execution_count": null,
      "metadata": {
        "colab": {
          "background_save": true,
          "base_uri": "https://localhost:8080/"
        },
        "id": "EnMYifCj1uhD",
        "outputId": "da597e81-9eb6-455d-aad6-7bf63643d5b3"
      },
      "outputs": [
        {
          "data": {
            "text/plain": [
              "[({'text': 'Pandemic prevention is the organization and management of preventive measures against pandemics. Those include measures to reduce causes of new infectious diseases and measures to prevent outbreaks and epidemics from becoming pandemics.\\nIt is not to be mistaken for pandemic preparedness or pandemic mitigation which largely seek to mitigate the magnitude of negative effects of pandemics and may overlap with pandemic prevention in some respects.',\n",
              "   'title': 'Pandemic prevention',\n",
              "   'url': 'https://en.wikipedia.org/wiki/Pandemic_prevention'},\n",
              "  51.70147),\n",
              " ({'text': 'Targeted immunization strategies are approaches designed to increase the immunization level of populations and decrease the chances of epidemic outbreaks. Though often in regards to use in healthcare practices and the administration of vaccines to prevent biological epidemic outbreaks, these strategies refer in general to immunization schemes in complex networks, biological, social or artificial in nature. Identification of at-risk groups and individuals with higher odds of spreading the disease often plays an important role in these strategies.',\n",
              "   'title': 'Targeted immunization strategies',\n",
              "   'url': 'https://en.wikipedia.org/wiki/Targeted_immunization_strategies'},\n",
              "  51.154327)]"
            ]
          },
          "execution_count": null,
          "metadata": {},
          "output_type": "execute_result"
        }
      ],
      "source": [
        "search(question[6],2) #Results from IndexFlatIP"
      ]
    },
    {
      "cell_type": "code",
      "execution_count": null,
      "metadata": {
        "id": "K42tKVZn1joY"
      },
      "outputs": [],
      "source": [
        ""
      ]
    }
  ],
  "metadata": {
    "colab": {
      "collapsed_sections": [],
      "name": "Semantic Search",
      "provenance": [],
      "mount_file_id": "15MHff6q39Y_yY_LYVlQVWng_x1sBhbES",
      "authorship_tag": "ABX9TyO7+MZICursIoc7lWOD21dg",
      "include_colab_link": true
    },
    "kernelspec": {
      "display_name": "Python 3",
      "name": "python3"
    },
    "language_info": {
      "name": "python"
    },
    "widgets": {
      "application/vnd.jupyter.widget-state+json": {
        "0b90807584c142eb8b3077a0ea8c7324": {
          "model_module": "@jupyter-widgets/controls",
          "model_module_version": "1.5.0",
          "model_name": "HTMLModel",
          "state": {
            "_dom_classes": [],
            "_model_module": "@jupyter-widgets/controls",
            "_model_module_version": "1.5.0",
            "_model_name": "HTMLModel",
            "_view_count": null,
            "_view_module": "@jupyter-widgets/controls",
            "_view_module_version": "1.5.0",
            "_view_name": "HTMLView",
            "description": "",
            "description_tooltip": null,
            "layout": "IPY_MODEL_bbc95324c0a74d6488a854e1d8dead60",
            "placeholder": "​",
            "style": "IPY_MODEL_87a642199b7c4ffc9bbf157fc757e505",
            "value": "Downloading: 100%"
          }
        },
        "0e5976fac204423c86552b51f5747d0c": {
          "model_module": "@jupyter-widgets/base",
          "model_module_version": "1.2.0",
          "model_name": "LayoutModel",
          "state": {
            "_model_module": "@jupyter-widgets/base",
            "_model_module_version": "1.2.0",
            "_model_name": "LayoutModel",
            "_view_count": null,
            "_view_module": "@jupyter-widgets/base",
            "_view_module_version": "1.2.0",
            "_view_name": "LayoutView",
            "align_content": null,
            "align_items": null,
            "align_self": null,
            "border": null,
            "bottom": null,
            "display": null,
            "flex": null,
            "flex_flow": null,
            "grid_area": null,
            "grid_auto_columns": null,
            "grid_auto_flow": null,
            "grid_auto_rows": null,
            "grid_column": null,
            "grid_gap": null,
            "grid_row": null,
            "grid_template_areas": null,
            "grid_template_columns": null,
            "grid_template_rows": null,
            "height": null,
            "justify_content": null,
            "justify_items": null,
            "left": null,
            "margin": null,
            "max_height": null,
            "max_width": null,
            "min_height": null,
            "min_width": null,
            "object_fit": null,
            "object_position": null,
            "order": null,
            "overflow": null,
            "overflow_x": null,
            "overflow_y": null,
            "padding": null,
            "right": null,
            "top": null,
            "visibility": null,
            "width": null
          }
        },
        "1e89bd637c8d4912956af21bf3534e64": {
          "model_module": "@jupyter-widgets/controls",
          "model_module_version": "1.5.0",
          "model_name": "ProgressStyleModel",
          "state": {
            "_model_module": "@jupyter-widgets/controls",
            "_model_module_version": "1.5.0",
            "_model_name": "ProgressStyleModel",
            "_view_count": null,
            "_view_module": "@jupyter-widgets/base",
            "_view_module_version": "1.2.0",
            "_view_name": "StyleView",
            "bar_color": null,
            "description_width": ""
          }
        },
        "26d2de2d806c40eda85badb90d723190": {
          "model_module": "@jupyter-widgets/controls",
          "model_module_version": "1.5.0",
          "model_name": "FloatProgressModel",
          "state": {
            "_dom_classes": [],
            "_model_module": "@jupyter-widgets/controls",
            "_model_module_version": "1.5.0",
            "_model_name": "FloatProgressModel",
            "_view_count": null,
            "_view_module": "@jupyter-widgets/controls",
            "_view_module_version": "1.5.0",
            "_view_name": "ProgressView",
            "bar_style": "success",
            "description": "",
            "description_tooltip": null,
            "layout": "IPY_MODEL_dfd60fc58e744e61ac7ae6e576057800",
            "max": 231508,
            "min": 0,
            "orientation": "horizontal",
            "style": "IPY_MODEL_f71a0d3df8e6409cbdc7196fbf635f2e",
            "value": 231508
          }
        },
        "2a39ce9d94e94921b0b686829ca34c0c": {
          "model_module": "@jupyter-widgets/controls",
          "model_module_version": "1.5.0",
          "model_name": "ProgressStyleModel",
          "state": {
            "_model_module": "@jupyter-widgets/controls",
            "_model_module_version": "1.5.0",
            "_model_name": "ProgressStyleModel",
            "_view_count": null,
            "_view_module": "@jupyter-widgets/base",
            "_view_module_version": "1.2.0",
            "_view_name": "StyleView",
            "bar_color": null,
            "description_width": ""
          }
        },
        "2a4b9abd816342d6909d0ca1544b2793": {
          "model_module": "@jupyter-widgets/controls",
          "model_module_version": "1.5.0",
          "model_name": "HBoxModel",
          "state": {
            "_dom_classes": [],
            "_model_module": "@jupyter-widgets/controls",
            "_model_module_version": "1.5.0",
            "_model_name": "HBoxModel",
            "_view_count": null,
            "_view_module": "@jupyter-widgets/controls",
            "_view_module_version": "1.5.0",
            "_view_name": "HBoxView",
            "box_style": "",
            "children": [
              "IPY_MODEL_d577d798a95543c08fae9e9e0b42e2d7",
              "IPY_MODEL_26d2de2d806c40eda85badb90d723190",
              "IPY_MODEL_931c77444e164470bc183ab93a7af8e4"
            ],
            "layout": "IPY_MODEL_d8f873a7db964681a610cdb4c28b8572"
          }
        },
        "2d33c589caa3466cacb68e62f6001c5d": {
          "model_module": "@jupyter-widgets/base",
          "model_module_version": "1.2.0",
          "model_name": "LayoutModel",
          "state": {
            "_model_module": "@jupyter-widgets/base",
            "_model_module_version": "1.2.0",
            "_model_name": "LayoutModel",
            "_view_count": null,
            "_view_module": "@jupyter-widgets/base",
            "_view_module_version": "1.2.0",
            "_view_name": "LayoutView",
            "align_content": null,
            "align_items": null,
            "align_self": null,
            "border": null,
            "bottom": null,
            "display": null,
            "flex": null,
            "flex_flow": null,
            "grid_area": null,
            "grid_auto_columns": null,
            "grid_auto_flow": null,
            "grid_auto_rows": null,
            "grid_column": null,
            "grid_gap": null,
            "grid_row": null,
            "grid_template_areas": null,
            "grid_template_columns": null,
            "grid_template_rows": null,
            "height": null,
            "justify_content": null,
            "justify_items": null,
            "left": null,
            "margin": null,
            "max_height": null,
            "max_width": null,
            "min_height": null,
            "min_width": null,
            "object_fit": null,
            "object_position": null,
            "order": null,
            "overflow": null,
            "overflow_x": null,
            "overflow_y": null,
            "padding": null,
            "right": null,
            "top": null,
            "visibility": null,
            "width": null
          }
        },
        "31357ae988b443158e2b02377b29a5a5": {
          "model_module": "@jupyter-widgets/controls",
          "model_module_version": "1.5.0",
          "model_name": "FloatProgressModel",
          "state": {
            "_dom_classes": [],
            "_model_module": "@jupyter-widgets/controls",
            "_model_module_version": "1.5.0",
            "_model_name": "FloatProgressModel",
            "_view_count": null,
            "_view_module": "@jupyter-widgets/controls",
            "_view_module_version": "1.5.0",
            "_view_name": "ProgressView",
            "bar_style": "success",
            "description": "",
            "description_tooltip": null,
            "layout": "IPY_MODEL_67ddbcb782364be8acf7fcf6eb186bf5",
            "max": 483,
            "min": 0,
            "orientation": "horizontal",
            "style": "IPY_MODEL_1e89bd637c8d4912956af21bf3534e64",
            "value": 483
          }
        },
        "31f32b082dea4b85a63c6fbce008d0a1": {
          "model_module": "@jupyter-widgets/base",
          "model_module_version": "1.2.0",
          "model_name": "LayoutModel",
          "state": {
            "_model_module": "@jupyter-widgets/base",
            "_model_module_version": "1.2.0",
            "_model_name": "LayoutModel",
            "_view_count": null,
            "_view_module": "@jupyter-widgets/base",
            "_view_module_version": "1.2.0",
            "_view_name": "LayoutView",
            "align_content": null,
            "align_items": null,
            "align_self": null,
            "border": null,
            "bottom": null,
            "display": null,
            "flex": null,
            "flex_flow": null,
            "grid_area": null,
            "grid_auto_columns": null,
            "grid_auto_flow": null,
            "grid_auto_rows": null,
            "grid_column": null,
            "grid_gap": null,
            "grid_row": null,
            "grid_template_areas": null,
            "grid_template_columns": null,
            "grid_template_rows": null,
            "height": null,
            "justify_content": null,
            "justify_items": null,
            "left": null,
            "margin": null,
            "max_height": null,
            "max_width": null,
            "min_height": null,
            "min_width": null,
            "object_fit": null,
            "object_position": null,
            "order": null,
            "overflow": null,
            "overflow_x": null,
            "overflow_y": null,
            "padding": null,
            "right": null,
            "top": null,
            "visibility": null,
            "width": null
          }
        },
        "3611df8a2ca9430e963ff686d95d8aab": {
          "model_module": "@jupyter-widgets/controls",
          "model_module_version": "1.5.0",
          "model_name": "HBoxModel",
          "state": {
            "_dom_classes": [],
            "_model_module": "@jupyter-widgets/controls",
            "_model_module_version": "1.5.0",
            "_model_name": "HBoxModel",
            "_view_count": null,
            "_view_module": "@jupyter-widgets/controls",
            "_view_module_version": "1.5.0",
            "_view_name": "HBoxView",
            "box_style": "",
            "children": [
              "IPY_MODEL_8539dadf31804c7aab870dac8f107bee",
              "IPY_MODEL_6e404e86551f46eb92696b65a32faa6d",
              "IPY_MODEL_c9baaa20d72e4300b7f399c202437181"
            ],
            "layout": "IPY_MODEL_751023aa70f147dd9c967abc2b7de9c2"
          }
        },
        "36a418f7cb4d40278ddbf12d3e3e94dc": {
          "model_module": "@jupyter-widgets/controls",
          "model_module_version": "1.5.0",
          "model_name": "DescriptionStyleModel",
          "state": {
            "_model_module": "@jupyter-widgets/controls",
            "_model_module_version": "1.5.0",
            "_model_name": "DescriptionStyleModel",
            "_view_count": null,
            "_view_module": "@jupyter-widgets/base",
            "_view_module_version": "1.2.0",
            "_view_name": "StyleView",
            "description_width": ""
          }
        },
        "3ab0a5bc43c04f458158f6a450f4bd53": {
          "model_module": "@jupyter-widgets/controls",
          "model_module_version": "1.5.0",
          "model_name": "HTMLModel",
          "state": {
            "_dom_classes": [],
            "_model_module": "@jupyter-widgets/controls",
            "_model_module_version": "1.5.0",
            "_model_name": "HTMLModel",
            "_view_count": null,
            "_view_module": "@jupyter-widgets/controls",
            "_view_module_version": "1.5.0",
            "_view_name": "HTMLView",
            "description": "",
            "description_tooltip": null,
            "layout": "IPY_MODEL_a591f28cefe045798d5c79eef1b9e0e7",
            "placeholder": "​",
            "style": "IPY_MODEL_4c1eceaa58c74b0cb8066c2bf567773c",
            "value": " 483/483 [00:00&lt;00:00, 4.20kB/s]"
          }
        },
        "499ffce5ad824005aee55785e18c9450": {
          "model_module": "@jupyter-widgets/base",
          "model_module_version": "1.2.0",
          "model_name": "LayoutModel",
          "state": {
            "_model_module": "@jupyter-widgets/base",
            "_model_module_version": "1.2.0",
            "_model_name": "LayoutModel",
            "_view_count": null,
            "_view_module": "@jupyter-widgets/base",
            "_view_module_version": "1.2.0",
            "_view_name": "LayoutView",
            "align_content": null,
            "align_items": null,
            "align_self": null,
            "border": null,
            "bottom": null,
            "display": null,
            "flex": null,
            "flex_flow": null,
            "grid_area": null,
            "grid_auto_columns": null,
            "grid_auto_flow": null,
            "grid_auto_rows": null,
            "grid_column": null,
            "grid_gap": null,
            "grid_row": null,
            "grid_template_areas": null,
            "grid_template_columns": null,
            "grid_template_rows": null,
            "height": null,
            "justify_content": null,
            "justify_items": null,
            "left": null,
            "margin": null,
            "max_height": null,
            "max_width": null,
            "min_height": null,
            "min_width": null,
            "object_fit": null,
            "object_position": null,
            "order": null,
            "overflow": null,
            "overflow_x": null,
            "overflow_y": null,
            "padding": null,
            "right": null,
            "top": null,
            "visibility": null,
            "width": null
          }
        },
        "4c1eceaa58c74b0cb8066c2bf567773c": {
          "model_module": "@jupyter-widgets/controls",
          "model_module_version": "1.5.0",
          "model_name": "DescriptionStyleModel",
          "state": {
            "_model_module": "@jupyter-widgets/controls",
            "_model_module_version": "1.5.0",
            "_model_name": "DescriptionStyleModel",
            "_view_count": null,
            "_view_module": "@jupyter-widgets/base",
            "_view_module_version": "1.2.0",
            "_view_name": "StyleView",
            "description_width": ""
          }
        },
        "4ef540d1cdde4ddab605b010e4cd62e5": {
          "model_module": "@jupyter-widgets/controls",
          "model_module_version": "1.5.0",
          "model_name": "DescriptionStyleModel",
          "state": {
            "_model_module": "@jupyter-widgets/controls",
            "_model_module_version": "1.5.0",
            "_model_name": "DescriptionStyleModel",
            "_view_count": null,
            "_view_module": "@jupyter-widgets/base",
            "_view_module_version": "1.2.0",
            "_view_name": "StyleView",
            "description_width": ""
          }
        },
        "50d0cacb35a7441f86815c1ea5d18fa9": {
          "model_module": "@jupyter-widgets/controls",
          "model_module_version": "1.5.0",
          "model_name": "HTMLModel",
          "state": {
            "_dom_classes": [],
            "_model_module": "@jupyter-widgets/controls",
            "_model_module_version": "1.5.0",
            "_model_name": "HTMLModel",
            "_view_count": null,
            "_view_module": "@jupyter-widgets/controls",
            "_view_module_version": "1.5.0",
            "_view_name": "HTMLView",
            "description": "",
            "description_tooltip": null,
            "layout": "IPY_MODEL_ff42648637c04111b40b9878d9c71104",
            "placeholder": "​",
            "style": "IPY_MODEL_8483c05de9554c4b8c88ceccded3b497",
            "value": "Downloading: 100%"
          }
        },
        "529abe6267b64cd99343f32cedf028a3": {
          "model_module": "@jupyter-widgets/controls",
          "model_module_version": "1.5.0",
          "model_name": "FloatProgressModel",
          "state": {
            "_dom_classes": [],
            "_model_module": "@jupyter-widgets/controls",
            "_model_module_version": "1.5.0",
            "_model_name": "FloatProgressModel",
            "_view_count": null,
            "_view_module": "@jupyter-widgets/controls",
            "_view_module_version": "1.5.0",
            "_view_name": "ProgressView",
            "bar_style": "success",
            "description": "",
            "description_tooltip": null,
            "layout": "IPY_MODEL_d6ab90c38c4c4cd592285c8daa1397d5",
            "max": 466062,
            "min": 0,
            "orientation": "horizontal",
            "style": "IPY_MODEL_2a39ce9d94e94921b0b686829ca34c0c",
            "value": 466062
          }
        },
        "616387989a6e44388a242d8f03640f22": {
          "model_module": "@jupyter-widgets/controls",
          "model_module_version": "1.5.0",
          "model_name": "DescriptionStyleModel",
          "state": {
            "_model_module": "@jupyter-widgets/controls",
            "_model_module_version": "1.5.0",
            "_model_name": "DescriptionStyleModel",
            "_view_count": null,
            "_view_module": "@jupyter-widgets/base",
            "_view_module_version": "1.2.0",
            "_view_name": "StyleView",
            "description_width": ""
          }
        },
        "67ddbcb782364be8acf7fcf6eb186bf5": {
          "model_module": "@jupyter-widgets/base",
          "model_module_version": "1.2.0",
          "model_name": "LayoutModel",
          "state": {
            "_model_module": "@jupyter-widgets/base",
            "_model_module_version": "1.2.0",
            "_model_name": "LayoutModel",
            "_view_count": null,
            "_view_module": "@jupyter-widgets/base",
            "_view_module_version": "1.2.0",
            "_view_name": "LayoutView",
            "align_content": null,
            "align_items": null,
            "align_self": null,
            "border": null,
            "bottom": null,
            "display": null,
            "flex": null,
            "flex_flow": null,
            "grid_area": null,
            "grid_auto_columns": null,
            "grid_auto_flow": null,
            "grid_auto_rows": null,
            "grid_column": null,
            "grid_gap": null,
            "grid_row": null,
            "grid_template_areas": null,
            "grid_template_columns": null,
            "grid_template_rows": null,
            "height": null,
            "justify_content": null,
            "justify_items": null,
            "left": null,
            "margin": null,
            "max_height": null,
            "max_width": null,
            "min_height": null,
            "min_width": null,
            "object_fit": null,
            "object_position": null,
            "order": null,
            "overflow": null,
            "overflow_x": null,
            "overflow_y": null,
            "padding": null,
            "right": null,
            "top": null,
            "visibility": null,
            "width": null
          }
        },
        "6bc5d43ec2704d1095088bdf72139657": {
          "model_module": "@jupyter-widgets/controls",
          "model_module_version": "1.5.0",
          "model_name": "DescriptionStyleModel",
          "state": {
            "_model_module": "@jupyter-widgets/controls",
            "_model_module_version": "1.5.0",
            "_model_name": "DescriptionStyleModel",
            "_view_count": null,
            "_view_module": "@jupyter-widgets/base",
            "_view_module_version": "1.2.0",
            "_view_name": "StyleView",
            "description_width": ""
          }
        },
        "6e404e86551f46eb92696b65a32faa6d": {
          "model_module": "@jupyter-widgets/controls",
          "model_module_version": "1.5.0",
          "model_name": "FloatProgressModel",
          "state": {
            "_dom_classes": [],
            "_model_module": "@jupyter-widgets/controls",
            "_model_module_version": "1.5.0",
            "_model_name": "FloatProgressModel",
            "_view_count": null,
            "_view_module": "@jupyter-widgets/controls",
            "_view_module_version": "1.5.0",
            "_view_name": "ProgressView",
            "bar_style": "success",
            "description": "",
            "description_tooltip": null,
            "layout": "IPY_MODEL_2d33c589caa3466cacb68e62f6001c5d",
            "max": 267967963,
            "min": 0,
            "orientation": "horizontal",
            "style": "IPY_MODEL_ae3ecd37749d438c9c849fb176c12b58",
            "value": 267967963
          }
        },
        "751023aa70f147dd9c967abc2b7de9c2": {
          "model_module": "@jupyter-widgets/base",
          "model_module_version": "1.2.0",
          "model_name": "LayoutModel",
          "state": {
            "_model_module": "@jupyter-widgets/base",
            "_model_module_version": "1.2.0",
            "_model_name": "LayoutModel",
            "_view_count": null,
            "_view_module": "@jupyter-widgets/base",
            "_view_module_version": "1.2.0",
            "_view_name": "LayoutView",
            "align_content": null,
            "align_items": null,
            "align_self": null,
            "border": null,
            "bottom": null,
            "display": null,
            "flex": null,
            "flex_flow": null,
            "grid_area": null,
            "grid_auto_columns": null,
            "grid_auto_flow": null,
            "grid_auto_rows": null,
            "grid_column": null,
            "grid_gap": null,
            "grid_row": null,
            "grid_template_areas": null,
            "grid_template_columns": null,
            "grid_template_rows": null,
            "height": null,
            "justify_content": null,
            "justify_items": null,
            "left": null,
            "margin": null,
            "max_height": null,
            "max_width": null,
            "min_height": null,
            "min_width": null,
            "object_fit": null,
            "object_position": null,
            "order": null,
            "overflow": null,
            "overflow_x": null,
            "overflow_y": null,
            "padding": null,
            "right": null,
            "top": null,
            "visibility": null,
            "width": null
          }
        },
        "7e3bfd9366884373a2ed7e413556cfb6": {
          "model_module": "@jupyter-widgets/controls",
          "model_module_version": "1.5.0",
          "model_name": "HBoxModel",
          "state": {
            "_dom_classes": [],
            "_model_module": "@jupyter-widgets/controls",
            "_model_module_version": "1.5.0",
            "_model_name": "HBoxModel",
            "_view_count": null,
            "_view_module": "@jupyter-widgets/controls",
            "_view_module_version": "1.5.0",
            "_view_name": "HBoxView",
            "box_style": "",
            "children": [
              "IPY_MODEL_0b90807584c142eb8b3077a0ea8c7324",
              "IPY_MODEL_a85b2761ad5a4d3b8e88aea9e00e538c",
              "IPY_MODEL_ebed34001471429090a54452cb9cc4d1"
            ],
            "layout": "IPY_MODEL_0e5976fac204423c86552b51f5747d0c"
          }
        },
        "813012aa93bb4268b1658ea65bde10e5": {
          "model_module": "@jupyter-widgets/base",
          "model_module_version": "1.2.0",
          "model_name": "LayoutModel",
          "state": {
            "_model_module": "@jupyter-widgets/base",
            "_model_module_version": "1.2.0",
            "_model_name": "LayoutModel",
            "_view_count": null,
            "_view_module": "@jupyter-widgets/base",
            "_view_module_version": "1.2.0",
            "_view_name": "LayoutView",
            "align_content": null,
            "align_items": null,
            "align_self": null,
            "border": null,
            "bottom": null,
            "display": null,
            "flex": null,
            "flex_flow": null,
            "grid_area": null,
            "grid_auto_columns": null,
            "grid_auto_flow": null,
            "grid_auto_rows": null,
            "grid_column": null,
            "grid_gap": null,
            "grid_row": null,
            "grid_template_areas": null,
            "grid_template_columns": null,
            "grid_template_rows": null,
            "height": null,
            "justify_content": null,
            "justify_items": null,
            "left": null,
            "margin": null,
            "max_height": null,
            "max_width": null,
            "min_height": null,
            "min_width": null,
            "object_fit": null,
            "object_position": null,
            "order": null,
            "overflow": null,
            "overflow_x": null,
            "overflow_y": null,
            "padding": null,
            "right": null,
            "top": null,
            "visibility": null,
            "width": null
          }
        },
        "8483c05de9554c4b8c88ceccded3b497": {
          "model_module": "@jupyter-widgets/controls",
          "model_module_version": "1.5.0",
          "model_name": "DescriptionStyleModel",
          "state": {
            "_model_module": "@jupyter-widgets/controls",
            "_model_module_version": "1.5.0",
            "_model_name": "DescriptionStyleModel",
            "_view_count": null,
            "_view_module": "@jupyter-widgets/base",
            "_view_module_version": "1.2.0",
            "_view_name": "StyleView",
            "description_width": ""
          }
        },
        "8539dadf31804c7aab870dac8f107bee": {
          "model_module": "@jupyter-widgets/controls",
          "model_module_version": "1.5.0",
          "model_name": "HTMLModel",
          "state": {
            "_dom_classes": [],
            "_model_module": "@jupyter-widgets/controls",
            "_model_module_version": "1.5.0",
            "_model_name": "HTMLModel",
            "_view_count": null,
            "_view_module": "@jupyter-widgets/controls",
            "_view_module_version": "1.5.0",
            "_view_name": "HTMLView",
            "description": "",
            "description_tooltip": null,
            "layout": "IPY_MODEL_499ffce5ad824005aee55785e18c9450",
            "placeholder": "​",
            "style": "IPY_MODEL_cd0768c06a424772b8e98f95aa337213",
            "value": "Downloading: 100%"
          }
        },
        "87a642199b7c4ffc9bbf157fc757e505": {
          "model_module": "@jupyter-widgets/controls",
          "model_module_version": "1.5.0",
          "model_name": "DescriptionStyleModel",
          "state": {
            "_model_module": "@jupyter-widgets/controls",
            "_model_module_version": "1.5.0",
            "_model_name": "DescriptionStyleModel",
            "_view_count": null,
            "_view_module": "@jupyter-widgets/base",
            "_view_module_version": "1.2.0",
            "_view_name": "StyleView",
            "description_width": ""
          }
        },
        "8dd4ae6fde534c49988a1e79152e6936": {
          "model_module": "@jupyter-widgets/base",
          "model_module_version": "1.2.0",
          "model_name": "LayoutModel",
          "state": {
            "_model_module": "@jupyter-widgets/base",
            "_model_module_version": "1.2.0",
            "_model_name": "LayoutModel",
            "_view_count": null,
            "_view_module": "@jupyter-widgets/base",
            "_view_module_version": "1.2.0",
            "_view_name": "LayoutView",
            "align_content": null,
            "align_items": null,
            "align_self": null,
            "border": null,
            "bottom": null,
            "display": null,
            "flex": null,
            "flex_flow": null,
            "grid_area": null,
            "grid_auto_columns": null,
            "grid_auto_flow": null,
            "grid_auto_rows": null,
            "grid_column": null,
            "grid_gap": null,
            "grid_row": null,
            "grid_template_areas": null,
            "grid_template_columns": null,
            "grid_template_rows": null,
            "height": null,
            "justify_content": null,
            "justify_items": null,
            "left": null,
            "margin": null,
            "max_height": null,
            "max_width": null,
            "min_height": null,
            "min_width": null,
            "object_fit": null,
            "object_position": null,
            "order": null,
            "overflow": null,
            "overflow_x": null,
            "overflow_y": null,
            "padding": null,
            "right": null,
            "top": null,
            "visibility": null,
            "width": null
          }
        },
        "8dfeaf5304a94cf0ba89fe9b379a7781": {
          "model_module": "@jupyter-widgets/base",
          "model_module_version": "1.2.0",
          "model_name": "LayoutModel",
          "state": {
            "_model_module": "@jupyter-widgets/base",
            "_model_module_version": "1.2.0",
            "_model_name": "LayoutModel",
            "_view_count": null,
            "_view_module": "@jupyter-widgets/base",
            "_view_module_version": "1.2.0",
            "_view_name": "LayoutView",
            "align_content": null,
            "align_items": null,
            "align_self": null,
            "border": null,
            "bottom": null,
            "display": null,
            "flex": null,
            "flex_flow": null,
            "grid_area": null,
            "grid_auto_columns": null,
            "grid_auto_flow": null,
            "grid_auto_rows": null,
            "grid_column": null,
            "grid_gap": null,
            "grid_row": null,
            "grid_template_areas": null,
            "grid_template_columns": null,
            "grid_template_rows": null,
            "height": null,
            "justify_content": null,
            "justify_items": null,
            "left": null,
            "margin": null,
            "max_height": null,
            "max_width": null,
            "min_height": null,
            "min_width": null,
            "object_fit": null,
            "object_position": null,
            "order": null,
            "overflow": null,
            "overflow_x": null,
            "overflow_y": null,
            "padding": null,
            "right": null,
            "top": null,
            "visibility": null,
            "width": null
          }
        },
        "9208e2c3a82f4136beaa6674a4c40a58": {
          "model_module": "@jupyter-widgets/controls",
          "model_module_version": "1.5.0",
          "model_name": "HBoxModel",
          "state": {
            "_dom_classes": [],
            "_model_module": "@jupyter-widgets/controls",
            "_model_module_version": "1.5.0",
            "_model_name": "HBoxModel",
            "_view_count": null,
            "_view_module": "@jupyter-widgets/controls",
            "_view_module_version": "1.5.0",
            "_view_name": "HBoxView",
            "box_style": "",
            "children": [
              "IPY_MODEL_50d0cacb35a7441f86815c1ea5d18fa9",
              "IPY_MODEL_529abe6267b64cd99343f32cedf028a3",
              "IPY_MODEL_cda4e65dfff64fff8e6ecbb119891e8b"
            ],
            "layout": "IPY_MODEL_cea52e9bd6b54b90baf08cf17c3c84df"
          }
        },
        "931c77444e164470bc183ab93a7af8e4": {
          "model_module": "@jupyter-widgets/controls",
          "model_module_version": "1.5.0",
          "model_name": "HTMLModel",
          "state": {
            "_dom_classes": [],
            "_model_module": "@jupyter-widgets/controls",
            "_model_module_version": "1.5.0",
            "_model_name": "HTMLModel",
            "_view_count": null,
            "_view_module": "@jupyter-widgets/controls",
            "_view_module_version": "1.5.0",
            "_view_name": "HTMLView",
            "description": "",
            "description_tooltip": null,
            "layout": "IPY_MODEL_813012aa93bb4268b1658ea65bde10e5",
            "placeholder": "​",
            "style": "IPY_MODEL_6bc5d43ec2704d1095088bdf72139657",
            "value": " 226k/226k [00:00&lt;00:00, 354kB/s]"
          }
        },
        "96a3cf3ab5e349ef806e6a7b96a1b563": {
          "model_module": "@jupyter-widgets/controls",
          "model_module_version": "1.5.0",
          "model_name": "HTMLModel",
          "state": {
            "_dom_classes": [],
            "_model_module": "@jupyter-widgets/controls",
            "_model_module_version": "1.5.0",
            "_model_name": "HTMLModel",
            "_view_count": null,
            "_view_module": "@jupyter-widgets/controls",
            "_view_module_version": "1.5.0",
            "_view_name": "HTMLView",
            "description": "",
            "description_tooltip": null,
            "layout": "IPY_MODEL_eb45a2b34b404ab68cc598ff0ccf8aa3",
            "placeholder": "​",
            "style": "IPY_MODEL_616387989a6e44388a242d8f03640f22",
            "value": "Downloading: 100%"
          }
        },
        "a591f28cefe045798d5c79eef1b9e0e7": {
          "model_module": "@jupyter-widgets/base",
          "model_module_version": "1.2.0",
          "model_name": "LayoutModel",
          "state": {
            "_model_module": "@jupyter-widgets/base",
            "_model_module_version": "1.2.0",
            "_model_name": "LayoutModel",
            "_view_count": null,
            "_view_module": "@jupyter-widgets/base",
            "_view_module_version": "1.2.0",
            "_view_name": "LayoutView",
            "align_content": null,
            "align_items": null,
            "align_self": null,
            "border": null,
            "bottom": null,
            "display": null,
            "flex": null,
            "flex_flow": null,
            "grid_area": null,
            "grid_auto_columns": null,
            "grid_auto_flow": null,
            "grid_auto_rows": null,
            "grid_column": null,
            "grid_gap": null,
            "grid_row": null,
            "grid_template_areas": null,
            "grid_template_columns": null,
            "grid_template_rows": null,
            "height": null,
            "justify_content": null,
            "justify_items": null,
            "left": null,
            "margin": null,
            "max_height": null,
            "max_width": null,
            "min_height": null,
            "min_width": null,
            "object_fit": null,
            "object_position": null,
            "order": null,
            "overflow": null,
            "overflow_x": null,
            "overflow_y": null,
            "padding": null,
            "right": null,
            "top": null,
            "visibility": null,
            "width": null
          }
        },
        "a85b2761ad5a4d3b8e88aea9e00e538c": {
          "model_module": "@jupyter-widgets/controls",
          "model_module_version": "1.5.0",
          "model_name": "FloatProgressModel",
          "state": {
            "_dom_classes": [],
            "_model_module": "@jupyter-widgets/controls",
            "_model_module_version": "1.5.0",
            "_model_name": "FloatProgressModel",
            "_view_count": null,
            "_view_module": "@jupyter-widgets/controls",
            "_view_module_version": "1.5.0",
            "_view_name": "ProgressView",
            "bar_style": "success",
            "description": "",
            "description_tooltip": null,
            "layout": "IPY_MODEL_8dd4ae6fde534c49988a1e79152e6936",
            "max": 28,
            "min": 0,
            "orientation": "horizontal",
            "style": "IPY_MODEL_b9614d7bb3944378ad9d9e5ac491162a",
            "value": 28
          }
        },
        "ae3ecd37749d438c9c849fb176c12b58": {
          "model_module": "@jupyter-widgets/controls",
          "model_module_version": "1.5.0",
          "model_name": "ProgressStyleModel",
          "state": {
            "_model_module": "@jupyter-widgets/controls",
            "_model_module_version": "1.5.0",
            "_model_name": "ProgressStyleModel",
            "_view_count": null,
            "_view_module": "@jupyter-widgets/base",
            "_view_module_version": "1.2.0",
            "_view_name": "StyleView",
            "bar_color": null,
            "description_width": ""
          }
        },
        "b05f6cd5fe8a4aedbbe9618a4bf6e439": {
          "model_module": "@jupyter-widgets/base",
          "model_module_version": "1.2.0",
          "model_name": "LayoutModel",
          "state": {
            "_model_module": "@jupyter-widgets/base",
            "_model_module_version": "1.2.0",
            "_model_name": "LayoutModel",
            "_view_count": null,
            "_view_module": "@jupyter-widgets/base",
            "_view_module_version": "1.2.0",
            "_view_name": "LayoutView",
            "align_content": null,
            "align_items": null,
            "align_self": null,
            "border": null,
            "bottom": null,
            "display": null,
            "flex": null,
            "flex_flow": null,
            "grid_area": null,
            "grid_auto_columns": null,
            "grid_auto_flow": null,
            "grid_auto_rows": null,
            "grid_column": null,
            "grid_gap": null,
            "grid_row": null,
            "grid_template_areas": null,
            "grid_template_columns": null,
            "grid_template_rows": null,
            "height": null,
            "justify_content": null,
            "justify_items": null,
            "left": null,
            "margin": null,
            "max_height": null,
            "max_width": null,
            "min_height": null,
            "min_width": null,
            "object_fit": null,
            "object_position": null,
            "order": null,
            "overflow": null,
            "overflow_x": null,
            "overflow_y": null,
            "padding": null,
            "right": null,
            "top": null,
            "visibility": null,
            "width": null
          }
        },
        "b73f41b25397410b87dd7c7a7efc6d39": {
          "model_module": "@jupyter-widgets/base",
          "model_module_version": "1.2.0",
          "model_name": "LayoutModel",
          "state": {
            "_model_module": "@jupyter-widgets/base",
            "_model_module_version": "1.2.0",
            "_model_name": "LayoutModel",
            "_view_count": null,
            "_view_module": "@jupyter-widgets/base",
            "_view_module_version": "1.2.0",
            "_view_name": "LayoutView",
            "align_content": null,
            "align_items": null,
            "align_self": null,
            "border": null,
            "bottom": null,
            "display": null,
            "flex": null,
            "flex_flow": null,
            "grid_area": null,
            "grid_auto_columns": null,
            "grid_auto_flow": null,
            "grid_auto_rows": null,
            "grid_column": null,
            "grid_gap": null,
            "grid_row": null,
            "grid_template_areas": null,
            "grid_template_columns": null,
            "grid_template_rows": null,
            "height": null,
            "justify_content": null,
            "justify_items": null,
            "left": null,
            "margin": null,
            "max_height": null,
            "max_width": null,
            "min_height": null,
            "min_width": null,
            "object_fit": null,
            "object_position": null,
            "order": null,
            "overflow": null,
            "overflow_x": null,
            "overflow_y": null,
            "padding": null,
            "right": null,
            "top": null,
            "visibility": null,
            "width": null
          }
        },
        "b9614d7bb3944378ad9d9e5ac491162a": {
          "model_module": "@jupyter-widgets/controls",
          "model_module_version": "1.5.0",
          "model_name": "ProgressStyleModel",
          "state": {
            "_model_module": "@jupyter-widgets/controls",
            "_model_module_version": "1.5.0",
            "_model_name": "ProgressStyleModel",
            "_view_count": null,
            "_view_module": "@jupyter-widgets/base",
            "_view_module_version": "1.2.0",
            "_view_name": "StyleView",
            "bar_color": null,
            "description_width": ""
          }
        },
        "bb6c3d90884a4defa9c85deff50b168c": {
          "model_module": "@jupyter-widgets/controls",
          "model_module_version": "1.5.0",
          "model_name": "DescriptionStyleModel",
          "state": {
            "_model_module": "@jupyter-widgets/controls",
            "_model_module_version": "1.5.0",
            "_model_name": "DescriptionStyleModel",
            "_view_count": null,
            "_view_module": "@jupyter-widgets/base",
            "_view_module_version": "1.2.0",
            "_view_name": "StyleView",
            "description_width": ""
          }
        },
        "bbc95324c0a74d6488a854e1d8dead60": {
          "model_module": "@jupyter-widgets/base",
          "model_module_version": "1.2.0",
          "model_name": "LayoutModel",
          "state": {
            "_model_module": "@jupyter-widgets/base",
            "_model_module_version": "1.2.0",
            "_model_name": "LayoutModel",
            "_view_count": null,
            "_view_module": "@jupyter-widgets/base",
            "_view_module_version": "1.2.0",
            "_view_name": "LayoutView",
            "align_content": null,
            "align_items": null,
            "align_self": null,
            "border": null,
            "bottom": null,
            "display": null,
            "flex": null,
            "flex_flow": null,
            "grid_area": null,
            "grid_auto_columns": null,
            "grid_auto_flow": null,
            "grid_auto_rows": null,
            "grid_column": null,
            "grid_gap": null,
            "grid_row": null,
            "grid_template_areas": null,
            "grid_template_columns": null,
            "grid_template_rows": null,
            "height": null,
            "justify_content": null,
            "justify_items": null,
            "left": null,
            "margin": null,
            "max_height": null,
            "max_width": null,
            "min_height": null,
            "min_width": null,
            "object_fit": null,
            "object_position": null,
            "order": null,
            "overflow": null,
            "overflow_x": null,
            "overflow_y": null,
            "padding": null,
            "right": null,
            "top": null,
            "visibility": null,
            "width": null
          }
        },
        "c9baaa20d72e4300b7f399c202437181": {
          "model_module": "@jupyter-widgets/controls",
          "model_module_version": "1.5.0",
          "model_name": "HTMLModel",
          "state": {
            "_dom_classes": [],
            "_model_module": "@jupyter-widgets/controls",
            "_model_module_version": "1.5.0",
            "_model_name": "HTMLModel",
            "_view_count": null,
            "_view_module": "@jupyter-widgets/controls",
            "_view_module_version": "1.5.0",
            "_view_name": "HTMLView",
            "description": "",
            "description_tooltip": null,
            "layout": "IPY_MODEL_b05f6cd5fe8a4aedbbe9618a4bf6e439",
            "placeholder": "​",
            "style": "IPY_MODEL_36a418f7cb4d40278ddbf12d3e3e94dc",
            "value": " 256M/256M [00:06&lt;00:00, 39.0MB/s]"
          }
        },
        "cd0768c06a424772b8e98f95aa337213": {
          "model_module": "@jupyter-widgets/controls",
          "model_module_version": "1.5.0",
          "model_name": "DescriptionStyleModel",
          "state": {
            "_model_module": "@jupyter-widgets/controls",
            "_model_module_version": "1.5.0",
            "_model_name": "DescriptionStyleModel",
            "_view_count": null,
            "_view_module": "@jupyter-widgets/base",
            "_view_module_version": "1.2.0",
            "_view_name": "StyleView",
            "description_width": ""
          }
        },
        "cda4e65dfff64fff8e6ecbb119891e8b": {
          "model_module": "@jupyter-widgets/controls",
          "model_module_version": "1.5.0",
          "model_name": "HTMLModel",
          "state": {
            "_dom_classes": [],
            "_model_module": "@jupyter-widgets/controls",
            "_model_module_version": "1.5.0",
            "_model_name": "HTMLModel",
            "_view_count": null,
            "_view_module": "@jupyter-widgets/controls",
            "_view_module_version": "1.5.0",
            "_view_name": "HTMLView",
            "description": "",
            "description_tooltip": null,
            "layout": "IPY_MODEL_d9780c8787464f00adaac636461221f4",
            "placeholder": "​",
            "style": "IPY_MODEL_bb6c3d90884a4defa9c85deff50b168c",
            "value": " 455k/455k [00:00&lt;00:00, 644kB/s]"
          }
        },
        "cea52e9bd6b54b90baf08cf17c3c84df": {
          "model_module": "@jupyter-widgets/base",
          "model_module_version": "1.2.0",
          "model_name": "LayoutModel",
          "state": {
            "_model_module": "@jupyter-widgets/base",
            "_model_module_version": "1.2.0",
            "_model_name": "LayoutModel",
            "_view_count": null,
            "_view_module": "@jupyter-widgets/base",
            "_view_module_version": "1.2.0",
            "_view_name": "LayoutView",
            "align_content": null,
            "align_items": null,
            "align_self": null,
            "border": null,
            "bottom": null,
            "display": null,
            "flex": null,
            "flex_flow": null,
            "grid_area": null,
            "grid_auto_columns": null,
            "grid_auto_flow": null,
            "grid_auto_rows": null,
            "grid_column": null,
            "grid_gap": null,
            "grid_row": null,
            "grid_template_areas": null,
            "grid_template_columns": null,
            "grid_template_rows": null,
            "height": null,
            "justify_content": null,
            "justify_items": null,
            "left": null,
            "margin": null,
            "max_height": null,
            "max_width": null,
            "min_height": null,
            "min_width": null,
            "object_fit": null,
            "object_position": null,
            "order": null,
            "overflow": null,
            "overflow_x": null,
            "overflow_y": null,
            "padding": null,
            "right": null,
            "top": null,
            "visibility": null,
            "width": null
          }
        },
        "d577d798a95543c08fae9e9e0b42e2d7": {
          "model_module": "@jupyter-widgets/controls",
          "model_module_version": "1.5.0",
          "model_name": "HTMLModel",
          "state": {
            "_dom_classes": [],
            "_model_module": "@jupyter-widgets/controls",
            "_model_module_version": "1.5.0",
            "_model_name": "HTMLModel",
            "_view_count": null,
            "_view_module": "@jupyter-widgets/controls",
            "_view_module_version": "1.5.0",
            "_view_name": "HTMLView",
            "description": "",
            "description_tooltip": null,
            "layout": "IPY_MODEL_8dfeaf5304a94cf0ba89fe9b379a7781",
            "placeholder": "​",
            "style": "IPY_MODEL_e5d497d21f824f85a04b7295baef128f",
            "value": "Downloading: 100%"
          }
        },
        "d6ab90c38c4c4cd592285c8daa1397d5": {
          "model_module": "@jupyter-widgets/base",
          "model_module_version": "1.2.0",
          "model_name": "LayoutModel",
          "state": {
            "_model_module": "@jupyter-widgets/base",
            "_model_module_version": "1.2.0",
            "_model_name": "LayoutModel",
            "_view_count": null,
            "_view_module": "@jupyter-widgets/base",
            "_view_module_version": "1.2.0",
            "_view_name": "LayoutView",
            "align_content": null,
            "align_items": null,
            "align_self": null,
            "border": null,
            "bottom": null,
            "display": null,
            "flex": null,
            "flex_flow": null,
            "grid_area": null,
            "grid_auto_columns": null,
            "grid_auto_flow": null,
            "grid_auto_rows": null,
            "grid_column": null,
            "grid_gap": null,
            "grid_row": null,
            "grid_template_areas": null,
            "grid_template_columns": null,
            "grid_template_rows": null,
            "height": null,
            "justify_content": null,
            "justify_items": null,
            "left": null,
            "margin": null,
            "max_height": null,
            "max_width": null,
            "min_height": null,
            "min_width": null,
            "object_fit": null,
            "object_position": null,
            "order": null,
            "overflow": null,
            "overflow_x": null,
            "overflow_y": null,
            "padding": null,
            "right": null,
            "top": null,
            "visibility": null,
            "width": null
          }
        },
        "d8f873a7db964681a610cdb4c28b8572": {
          "model_module": "@jupyter-widgets/base",
          "model_module_version": "1.2.0",
          "model_name": "LayoutModel",
          "state": {
            "_model_module": "@jupyter-widgets/base",
            "_model_module_version": "1.2.0",
            "_model_name": "LayoutModel",
            "_view_count": null,
            "_view_module": "@jupyter-widgets/base",
            "_view_module_version": "1.2.0",
            "_view_name": "LayoutView",
            "align_content": null,
            "align_items": null,
            "align_self": null,
            "border": null,
            "bottom": null,
            "display": null,
            "flex": null,
            "flex_flow": null,
            "grid_area": null,
            "grid_auto_columns": null,
            "grid_auto_flow": null,
            "grid_auto_rows": null,
            "grid_column": null,
            "grid_gap": null,
            "grid_row": null,
            "grid_template_areas": null,
            "grid_template_columns": null,
            "grid_template_rows": null,
            "height": null,
            "justify_content": null,
            "justify_items": null,
            "left": null,
            "margin": null,
            "max_height": null,
            "max_width": null,
            "min_height": null,
            "min_width": null,
            "object_fit": null,
            "object_position": null,
            "order": null,
            "overflow": null,
            "overflow_x": null,
            "overflow_y": null,
            "padding": null,
            "right": null,
            "top": null,
            "visibility": null,
            "width": null
          }
        },
        "d9780c8787464f00adaac636461221f4": {
          "model_module": "@jupyter-widgets/base",
          "model_module_version": "1.2.0",
          "model_name": "LayoutModel",
          "state": {
            "_model_module": "@jupyter-widgets/base",
            "_model_module_version": "1.2.0",
            "_model_name": "LayoutModel",
            "_view_count": null,
            "_view_module": "@jupyter-widgets/base",
            "_view_module_version": "1.2.0",
            "_view_name": "LayoutView",
            "align_content": null,
            "align_items": null,
            "align_self": null,
            "border": null,
            "bottom": null,
            "display": null,
            "flex": null,
            "flex_flow": null,
            "grid_area": null,
            "grid_auto_columns": null,
            "grid_auto_flow": null,
            "grid_auto_rows": null,
            "grid_column": null,
            "grid_gap": null,
            "grid_row": null,
            "grid_template_areas": null,
            "grid_template_columns": null,
            "grid_template_rows": null,
            "height": null,
            "justify_content": null,
            "justify_items": null,
            "left": null,
            "margin": null,
            "max_height": null,
            "max_width": null,
            "min_height": null,
            "min_width": null,
            "object_fit": null,
            "object_position": null,
            "order": null,
            "overflow": null,
            "overflow_x": null,
            "overflow_y": null,
            "padding": null,
            "right": null,
            "top": null,
            "visibility": null,
            "width": null
          }
        },
        "dfd60fc58e744e61ac7ae6e576057800": {
          "model_module": "@jupyter-widgets/base",
          "model_module_version": "1.2.0",
          "model_name": "LayoutModel",
          "state": {
            "_model_module": "@jupyter-widgets/base",
            "_model_module_version": "1.2.0",
            "_model_name": "LayoutModel",
            "_view_count": null,
            "_view_module": "@jupyter-widgets/base",
            "_view_module_version": "1.2.0",
            "_view_name": "LayoutView",
            "align_content": null,
            "align_items": null,
            "align_self": null,
            "border": null,
            "bottom": null,
            "display": null,
            "flex": null,
            "flex_flow": null,
            "grid_area": null,
            "grid_auto_columns": null,
            "grid_auto_flow": null,
            "grid_auto_rows": null,
            "grid_column": null,
            "grid_gap": null,
            "grid_row": null,
            "grid_template_areas": null,
            "grid_template_columns": null,
            "grid_template_rows": null,
            "height": null,
            "justify_content": null,
            "justify_items": null,
            "left": null,
            "margin": null,
            "max_height": null,
            "max_width": null,
            "min_height": null,
            "min_width": null,
            "object_fit": null,
            "object_position": null,
            "order": null,
            "overflow": null,
            "overflow_x": null,
            "overflow_y": null,
            "padding": null,
            "right": null,
            "top": null,
            "visibility": null,
            "width": null
          }
        },
        "e20bcebd23fd4eaba90542df37a1aabe": {
          "model_module": "@jupyter-widgets/controls",
          "model_module_version": "1.5.0",
          "model_name": "HBoxModel",
          "state": {
            "_dom_classes": [],
            "_model_module": "@jupyter-widgets/controls",
            "_model_module_version": "1.5.0",
            "_model_name": "HBoxModel",
            "_view_count": null,
            "_view_module": "@jupyter-widgets/controls",
            "_view_module_version": "1.5.0",
            "_view_name": "HBoxView",
            "box_style": "",
            "children": [
              "IPY_MODEL_96a3cf3ab5e349ef806e6a7b96a1b563",
              "IPY_MODEL_31357ae988b443158e2b02377b29a5a5",
              "IPY_MODEL_3ab0a5bc43c04f458158f6a450f4bd53"
            ],
            "layout": "IPY_MODEL_31f32b082dea4b85a63c6fbce008d0a1"
          }
        },
        "e5d497d21f824f85a04b7295baef128f": {
          "model_module": "@jupyter-widgets/controls",
          "model_module_version": "1.5.0",
          "model_name": "DescriptionStyleModel",
          "state": {
            "_model_module": "@jupyter-widgets/controls",
            "_model_module_version": "1.5.0",
            "_model_name": "DescriptionStyleModel",
            "_view_count": null,
            "_view_module": "@jupyter-widgets/base",
            "_view_module_version": "1.2.0",
            "_view_name": "StyleView",
            "description_width": ""
          }
        },
        "eb45a2b34b404ab68cc598ff0ccf8aa3": {
          "model_module": "@jupyter-widgets/base",
          "model_module_version": "1.2.0",
          "model_name": "LayoutModel",
          "state": {
            "_model_module": "@jupyter-widgets/base",
            "_model_module_version": "1.2.0",
            "_model_name": "LayoutModel",
            "_view_count": null,
            "_view_module": "@jupyter-widgets/base",
            "_view_module_version": "1.2.0",
            "_view_name": "LayoutView",
            "align_content": null,
            "align_items": null,
            "align_self": null,
            "border": null,
            "bottom": null,
            "display": null,
            "flex": null,
            "flex_flow": null,
            "grid_area": null,
            "grid_auto_columns": null,
            "grid_auto_flow": null,
            "grid_auto_rows": null,
            "grid_column": null,
            "grid_gap": null,
            "grid_row": null,
            "grid_template_areas": null,
            "grid_template_columns": null,
            "grid_template_rows": null,
            "height": null,
            "justify_content": null,
            "justify_items": null,
            "left": null,
            "margin": null,
            "max_height": null,
            "max_width": null,
            "min_height": null,
            "min_width": null,
            "object_fit": null,
            "object_position": null,
            "order": null,
            "overflow": null,
            "overflow_x": null,
            "overflow_y": null,
            "padding": null,
            "right": null,
            "top": null,
            "visibility": null,
            "width": null
          }
        },
        "ebed34001471429090a54452cb9cc4d1": {
          "model_module": "@jupyter-widgets/controls",
          "model_module_version": "1.5.0",
          "model_name": "HTMLModel",
          "state": {
            "_dom_classes": [],
            "_model_module": "@jupyter-widgets/controls",
            "_model_module_version": "1.5.0",
            "_model_name": "HTMLModel",
            "_view_count": null,
            "_view_module": "@jupyter-widgets/controls",
            "_view_module_version": "1.5.0",
            "_view_name": "HTMLView",
            "description": "",
            "description_tooltip": null,
            "layout": "IPY_MODEL_b73f41b25397410b87dd7c7a7efc6d39",
            "placeholder": "​",
            "style": "IPY_MODEL_4ef540d1cdde4ddab605b010e4cd62e5",
            "value": " 28.0/28.0 [00:00&lt;00:00, 165B/s]"
          }
        },
        "f71a0d3df8e6409cbdc7196fbf635f2e": {
          "model_module": "@jupyter-widgets/controls",
          "model_module_version": "1.5.0",
          "model_name": "ProgressStyleModel",
          "state": {
            "_model_module": "@jupyter-widgets/controls",
            "_model_module_version": "1.5.0",
            "_model_name": "ProgressStyleModel",
            "_view_count": null,
            "_view_module": "@jupyter-widgets/base",
            "_view_module_version": "1.2.0",
            "_view_name": "StyleView",
            "bar_color": null,
            "description_width": ""
          }
        },
        "ff42648637c04111b40b9878d9c71104": {
          "model_module": "@jupyter-widgets/base",
          "model_module_version": "1.2.0",
          "model_name": "LayoutModel",
          "state": {
            "_model_module": "@jupyter-widgets/base",
            "_model_module_version": "1.2.0",
            "_model_name": "LayoutModel",
            "_view_count": null,
            "_view_module": "@jupyter-widgets/base",
            "_view_module_version": "1.2.0",
            "_view_name": "LayoutView",
            "align_content": null,
            "align_items": null,
            "align_self": null,
            "border": null,
            "bottom": null,
            "display": null,
            "flex": null,
            "flex_flow": null,
            "grid_area": null,
            "grid_auto_columns": null,
            "grid_auto_flow": null,
            "grid_auto_rows": null,
            "grid_column": null,
            "grid_gap": null,
            "grid_row": null,
            "grid_template_areas": null,
            "grid_template_columns": null,
            "grid_template_rows": null,
            "height": null,
            "justify_content": null,
            "justify_items": null,
            "left": null,
            "margin": null,
            "max_height": null,
            "max_width": null,
            "min_height": null,
            "min_width": null,
            "object_fit": null,
            "object_position": null,
            "order": null,
            "overflow": null,
            "overflow_x": null,
            "overflow_y": null,
            "padding": null,
            "right": null,
            "top": null,
            "visibility": null,
            "width": null
          }
        }
      }
    }
  },
  "nbformat": 4,
  "nbformat_minor": 0
}